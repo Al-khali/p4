{
 "cells": [
  {
   "cell_type": "code",
   "execution_count": 1,
   "id": "c4d6d1a4",
   "metadata": {
    "scrolled": true
   },
   "outputs": [],
   "source": [
    "import pandas as pd\n",
    "import numpy as np\n",
    "import matplotlib.pyplot as plt \n",
    "import seaborn as sns\n",
    "import sklearn as sk \n",
    "import scipy.stats as stats\n",
    "from datetime import datetime\n",
    "from utility import *\n",
    "import warnings\n",
    "warnings.filterwarnings('ignore')"
   ]
  },
  {
   "cell_type": "code",
   "execution_count": 2,
   "id": "57e1ff31",
   "metadata": {},
   "outputs": [],
   "source": [
    "# reglage de seaborn\n",
    "sns.set(\n",
    "    style='darkgrid',\n",
    "    context='notebook',\n",
    "    color_codes=True,\n",
    "    palette='Paired',\n",
    "    rc={'figure.figsize':(8,5)}\n",
    ")"
   ]
  },
  {
   "cell_type": "code",
   "execution_count": 3,
   "id": "b0a5ca73",
   "metadata": {},
   "outputs": [],
   "source": [
    "# reduction du nombre de décimale affiché \n",
    "pd.options.display.float_format = '{:,.2f}'.format"
   ]
  },
  {
   "cell_type": "markdown",
   "id": "d2df5d0e",
   "metadata": {},
   "source": [
    "# Exploration des dataset"
   ]
  },
  {
   "cell_type": "markdown",
   "id": "29edcce8",
   "metadata": {},
   "source": [
    "## importation des dataset"
   ]
  },
  {
   "cell_type": "code",
   "execution_count": 4,
   "id": "6bb45925",
   "metadata": {},
   "outputs": [],
   "source": [
    "client = pd.read_csv('dataset_P4/customers.csv')\n",
    "produit = pd.read_csv('dataset_P4/products.csv')\n",
    "transaction = pd.read_csv('dataset_P4/transactions.csv')"
   ]
  },
  {
   "cell_type": "markdown",
   "id": "739c34f7",
   "metadata": {},
   "source": [
    "### Client :"
   ]
  },
  {
   "cell_type": "code",
   "execution_count": 5,
   "id": "e18120f3",
   "metadata": {},
   "outputs": [
    {
     "name": "stdout",
     "output_type": "stream",
     "text": [
      "échontillon  \n",
      "\n",
      "  client_id sex  birth\n",
      "0    c_4410   f   1967\n",
      "1    c_7839   f   1975\n",
      "2    c_1699   f   1984\n",
      "3    c_5961   f   1962\n",
      "4    c_5320   m   1943\n",
      "\n",
      "\n",
      "taille du dataframe :\n",
      "\n",
      "(8623, 3)\n",
      "\n",
      "\n",
      "<class 'pandas.core.frame.DataFrame'>\n",
      "RangeIndex: 8623 entries, 0 to 8622\n",
      "Data columns (total 3 columns):\n",
      " #   Column     Non-Null Count  Dtype \n",
      "---  ------     --------------  ----- \n",
      " 0   client_id  8623 non-null   object\n",
      " 1   sex        8623 non-null   object\n",
      " 2   birth      8623 non-null   int64 \n",
      "dtypes: int64(1), object(2)\n",
      "memory usage: 202.2+ KB\n",
      "None\n",
      "\n",
      "\n",
      "description du dataset: \n",
      "\n",
      "       client_id   sex    birth\n",
      "count       8623  8623 8,623.00\n",
      "unique      8623     2      NaN\n",
      "top       c_4410     f      NaN\n",
      "freq           1  4491      NaN\n",
      "mean         NaN   NaN 1,978.28\n",
      "std          NaN   NaN    16.92\n",
      "min          NaN   NaN 1,929.00\n",
      "25%          NaN   NaN 1,966.00\n",
      "50%          NaN   NaN 1,979.00\n",
      "75%          NaN   NaN 1,992.00\n",
      "max          NaN   NaN 2,004.00\n"
     ]
    }
   ],
   "source": [
    "exploration(client)"
   ]
  },
  {
   "cell_type": "code",
   "execution_count": 6,
   "id": "148192d7",
   "metadata": {},
   "outputs": [
    {
     "name": "stdout",
     "output_type": "stream",
     "text": [
      "0 doublons\n"
     ]
    }
   ],
   "source": [
    "# verification des doublons \n",
    "check_doublons(client)"
   ]
  },
  {
   "cell_type": "code",
   "execution_count": 7,
   "id": "a3cd60c7",
   "metadata": {
    "scrolled": false
   },
   "outputs": [
    {
     "name": "stdout",
     "output_type": "stream",
     "text": [
      "client_id: 0.0%\n",
      "sex: 0.0%\n",
      "birth: 0.0%\n"
     ]
    }
   ],
   "source": [
    "# detection des nan dans le dataset \n",
    "NaN_percent(client, 'client_id')\n",
    "for i in list(client):\n",
    "    print(i +': ' + str(NaN_percent(client,i))+'%')"
   ]
  },
  {
   "cell_type": "markdown",
   "id": "423966ec",
   "metadata": {},
   "source": [
    "### produit :"
   ]
  },
  {
   "cell_type": "code",
   "execution_count": 8,
   "id": "b7594fa0",
   "metadata": {},
   "outputs": [
    {
     "data": {
      "text/html": [
       "<div>\n",
       "<style scoped>\n",
       "    .dataframe tbody tr th:only-of-type {\n",
       "        vertical-align: middle;\n",
       "    }\n",
       "\n",
       "    .dataframe tbody tr th {\n",
       "        vertical-align: top;\n",
       "    }\n",
       "\n",
       "    .dataframe thead th {\n",
       "        text-align: right;\n",
       "    }\n",
       "</style>\n",
       "<table border=\"1\" class=\"dataframe\">\n",
       "  <thead>\n",
       "    <tr style=\"text-align: right;\">\n",
       "      <th></th>\n",
       "      <th>id_prod</th>\n",
       "      <th>price</th>\n",
       "      <th>categ</th>\n",
       "    </tr>\n",
       "  </thead>\n",
       "  <tbody>\n",
       "    <tr>\n",
       "      <th>0</th>\n",
       "      <td>0_1421</td>\n",
       "      <td>19.99</td>\n",
       "      <td>0</td>\n",
       "    </tr>\n",
       "    <tr>\n",
       "      <th>1</th>\n",
       "      <td>0_1368</td>\n",
       "      <td>5.13</td>\n",
       "      <td>0</td>\n",
       "    </tr>\n",
       "    <tr>\n",
       "      <th>2</th>\n",
       "      <td>0_731</td>\n",
       "      <td>17.99</td>\n",
       "      <td>0</td>\n",
       "    </tr>\n",
       "  </tbody>\n",
       "</table>\n",
       "</div>"
      ],
      "text/plain": [
       "  id_prod  price  categ\n",
       "0  0_1421  19.99      0\n",
       "1  0_1368   5.13      0\n",
       "2   0_731  17.99      0"
      ]
     },
     "execution_count": 8,
     "metadata": {},
     "output_type": "execute_result"
    }
   ],
   "source": [
    "produit.head(3)"
   ]
  },
  {
   "cell_type": "code",
   "execution_count": 9,
   "id": "8db32d03",
   "metadata": {},
   "outputs": [
    {
     "data": {
      "text/plain": [
       "(3287, 3)"
      ]
     },
     "execution_count": 9,
     "metadata": {},
     "output_type": "execute_result"
    }
   ],
   "source": [
    "produit.shape"
   ]
  },
  {
   "cell_type": "code",
   "execution_count": 10,
   "id": "e04d561c",
   "metadata": {},
   "outputs": [
    {
     "name": "stdout",
     "output_type": "stream",
     "text": [
      "échontillon  \n",
      "\n",
      "  id_prod  price  categ\n",
      "0  0_1421  19.99      0\n",
      "1  0_1368   5.13      0\n",
      "2   0_731  17.99      0\n",
      "3   1_587   4.99      1\n",
      "4  0_1507   3.99      0\n",
      "\n",
      "\n",
      "taille du dataframe :\n",
      "\n",
      "(3287, 3)\n",
      "\n",
      "\n",
      "<class 'pandas.core.frame.DataFrame'>\n",
      "RangeIndex: 3287 entries, 0 to 3286\n",
      "Data columns (total 3 columns):\n",
      " #   Column   Non-Null Count  Dtype  \n",
      "---  ------   --------------  -----  \n",
      " 0   id_prod  3287 non-null   object \n",
      " 1   price    3287 non-null   float64\n",
      " 2   categ    3287 non-null   int64  \n",
      "dtypes: float64(1), int64(1), object(1)\n",
      "memory usage: 77.2+ KB\n",
      "None\n",
      "\n",
      "\n",
      "description du dataset: \n",
      "\n",
      "       id_prod    price    categ\n",
      "count     3287 3,287.00 3,287.00\n",
      "unique    3287      NaN      NaN\n",
      "top     0_1421      NaN      NaN\n",
      "freq         1      NaN      NaN\n",
      "mean       NaN    21.86     0.37\n",
      "std        NaN    29.85     0.62\n",
      "min        NaN    -1.00     0.00\n",
      "25%        NaN     6.99     0.00\n",
      "50%        NaN    13.06     0.00\n",
      "75%        NaN    22.99     1.00\n",
      "max        NaN   300.00     2.00\n"
     ]
    }
   ],
   "source": [
    "exploration(produit)"
   ]
  },
  {
   "cell_type": "code",
   "execution_count": 11,
   "id": "55043109",
   "metadata": {},
   "outputs": [
    {
     "name": "stdout",
     "output_type": "stream",
     "text": [
      "0 doublons\n"
     ]
    }
   ],
   "source": [
    "check_doublons(produit)"
   ]
  },
  {
   "cell_type": "code",
   "execution_count": 12,
   "id": "cdb04406",
   "metadata": {},
   "outputs": [
    {
     "name": "stdout",
     "output_type": "stream",
     "text": [
      "id_prod: 0.0%\n",
      "price: 0.0%\n",
      "categ: 0.0%\n"
     ]
    }
   ],
   "source": [
    "NaN_percent(produit, 'id_prod')\n",
    "for i in list(produit):\n",
    "    print(i +': ' + str(NaN_percent(produit,i))+'%')"
   ]
  },
  {
   "cell_type": "code",
   "execution_count": 13,
   "id": "59099486",
   "metadata": {},
   "outputs": [
    {
     "data": {
      "text/html": [
       "<div>\n",
       "<style scoped>\n",
       "    .dataframe tbody tr th:only-of-type {\n",
       "        vertical-align: middle;\n",
       "    }\n",
       "\n",
       "    .dataframe tbody tr th {\n",
       "        vertical-align: top;\n",
       "    }\n",
       "\n",
       "    .dataframe thead th {\n",
       "        text-align: right;\n",
       "    }\n",
       "</style>\n",
       "<table border=\"1\" class=\"dataframe\">\n",
       "  <thead>\n",
       "    <tr style=\"text-align: right;\">\n",
       "      <th></th>\n",
       "      <th>id_prod</th>\n",
       "      <th>price</th>\n",
       "      <th>categ</th>\n",
       "    </tr>\n",
       "  </thead>\n",
       "  <tbody>\n",
       "    <tr>\n",
       "      <th>731</th>\n",
       "      <td>T_0</td>\n",
       "      <td>-1.00</td>\n",
       "      <td>0</td>\n",
       "    </tr>\n",
       "    <tr>\n",
       "      <th>2355</th>\n",
       "      <td>0_202</td>\n",
       "      <td>0.62</td>\n",
       "      <td>0</td>\n",
       "    </tr>\n",
       "    <tr>\n",
       "      <th>2272</th>\n",
       "      <td>0_528</td>\n",
       "      <td>0.62</td>\n",
       "      <td>0</td>\n",
       "    </tr>\n",
       "    <tr>\n",
       "      <th>370</th>\n",
       "      <td>0_120</td>\n",
       "      <td>0.66</td>\n",
       "      <td>0</td>\n",
       "    </tr>\n",
       "    <tr>\n",
       "      <th>1211</th>\n",
       "      <td>0_1844</td>\n",
       "      <td>0.77</td>\n",
       "      <td>0</td>\n",
       "    </tr>\n",
       "    <tr>\n",
       "      <th>...</th>\n",
       "      <td>...</td>\n",
       "      <td>...</td>\n",
       "      <td>...</td>\n",
       "    </tr>\n",
       "    <tr>\n",
       "      <th>2779</th>\n",
       "      <td>2_30</td>\n",
       "      <td>233.54</td>\n",
       "      <td>2</td>\n",
       "    </tr>\n",
       "    <tr>\n",
       "      <th>1436</th>\n",
       "      <td>2_167</td>\n",
       "      <td>236.99</td>\n",
       "      <td>2</td>\n",
       "    </tr>\n",
       "    <tr>\n",
       "      <th>394</th>\n",
       "      <td>2_158</td>\n",
       "      <td>247.22</td>\n",
       "      <td>2</td>\n",
       "    </tr>\n",
       "    <tr>\n",
       "      <th>724</th>\n",
       "      <td>2_76</td>\n",
       "      <td>254.44</td>\n",
       "      <td>2</td>\n",
       "    </tr>\n",
       "    <tr>\n",
       "      <th>947</th>\n",
       "      <td>2_2</td>\n",
       "      <td>300.00</td>\n",
       "      <td>2</td>\n",
       "    </tr>\n",
       "  </tbody>\n",
       "</table>\n",
       "<p>3287 rows × 3 columns</p>\n",
       "</div>"
      ],
      "text/plain": [
       "     id_prod  price  categ\n",
       "731      T_0  -1.00      0\n",
       "2355   0_202   0.62      0\n",
       "2272   0_528   0.62      0\n",
       "370    0_120   0.66      0\n",
       "1211  0_1844   0.77      0\n",
       "...      ...    ...    ...\n",
       "2779    2_30 233.54      2\n",
       "1436   2_167 236.99      2\n",
       "394    2_158 247.22      2\n",
       "724     2_76 254.44      2\n",
       "947      2_2 300.00      2\n",
       "\n",
       "[3287 rows x 3 columns]"
      ]
     },
     "execution_count": 13,
     "metadata": {},
     "output_type": "execute_result"
    }
   ],
   "source": [
    "produit.sort_values(by='price')"
   ]
  },
  {
   "cell_type": "code",
   "execution_count": 14,
   "id": "2eb39c25",
   "metadata": {},
   "outputs": [
    {
     "name": "stdout",
     "output_type": "stream",
     "text": [
      "[0, 1, 2]\n"
     ]
    }
   ],
   "source": [
    "print(list(produit['categ'].unique()))"
   ]
  },
  {
   "cell_type": "markdown",
   "id": "3af39962",
   "metadata": {},
   "source": [
    "    - il y a trois catégorie de prix (0,1,2)  \n",
    "    - on observe un anomalie ce dataframe possède des valeur de test \n",
    "    avec des prix négatif "
   ]
  },
  {
   "cell_type": "markdown",
   "id": "b8cadac7",
   "metadata": {},
   "source": [
    "### transaction : "
   ]
  },
  {
   "cell_type": "code",
   "execution_count": 15,
   "id": "c0fa853e",
   "metadata": {},
   "outputs": [
    {
     "data": {
      "text/html": [
       "<div>\n",
       "<style scoped>\n",
       "    .dataframe tbody tr th:only-of-type {\n",
       "        vertical-align: middle;\n",
       "    }\n",
       "\n",
       "    .dataframe tbody tr th {\n",
       "        vertical-align: top;\n",
       "    }\n",
       "\n",
       "    .dataframe thead th {\n",
       "        text-align: right;\n",
       "    }\n",
       "</style>\n",
       "<table border=\"1\" class=\"dataframe\">\n",
       "  <thead>\n",
       "    <tr style=\"text-align: right;\">\n",
       "      <th></th>\n",
       "      <th>id_prod</th>\n",
       "      <th>date</th>\n",
       "      <th>session_id</th>\n",
       "      <th>client_id</th>\n",
       "    </tr>\n",
       "  </thead>\n",
       "  <tbody>\n",
       "    <tr>\n",
       "      <th>0</th>\n",
       "      <td>0_1483</td>\n",
       "      <td>2021-04-10 18:37:28.723910</td>\n",
       "      <td>s_18746</td>\n",
       "      <td>c_4450</td>\n",
       "    </tr>\n",
       "    <tr>\n",
       "      <th>1</th>\n",
       "      <td>2_226</td>\n",
       "      <td>2022-02-03 01:55:53.276402</td>\n",
       "      <td>s_159142</td>\n",
       "      <td>c_277</td>\n",
       "    </tr>\n",
       "    <tr>\n",
       "      <th>2</th>\n",
       "      <td>1_374</td>\n",
       "      <td>2021-09-23 15:13:46.938559</td>\n",
       "      <td>s_94290</td>\n",
       "      <td>c_4270</td>\n",
       "    </tr>\n",
       "  </tbody>\n",
       "</table>\n",
       "</div>"
      ],
      "text/plain": [
       "  id_prod                        date session_id client_id\n",
       "0  0_1483  2021-04-10 18:37:28.723910    s_18746    c_4450\n",
       "1   2_226  2022-02-03 01:55:53.276402   s_159142     c_277\n",
       "2   1_374  2021-09-23 15:13:46.938559    s_94290    c_4270"
      ]
     },
     "execution_count": 15,
     "metadata": {},
     "output_type": "execute_result"
    }
   ],
   "source": [
    "transaction.head(3)"
   ]
  },
  {
   "cell_type": "code",
   "execution_count": 16,
   "id": "af46fdd1",
   "metadata": {},
   "outputs": [
    {
     "data": {
      "text/plain": [
       "(337016, 4)"
      ]
     },
     "execution_count": 16,
     "metadata": {},
     "output_type": "execute_result"
    }
   ],
   "source": [
    "transaction.shape"
   ]
  },
  {
   "cell_type": "code",
   "execution_count": 17,
   "id": "2f4e35fe",
   "metadata": {},
   "outputs": [
    {
     "name": "stdout",
     "output_type": "stream",
     "text": [
      "échontillon  \n",
      "\n",
      "  id_prod                        date session_id client_id\n",
      "0  0_1483  2021-04-10 18:37:28.723910    s_18746    c_4450\n",
      "1   2_226  2022-02-03 01:55:53.276402   s_159142     c_277\n",
      "2   1_374  2021-09-23 15:13:46.938559    s_94290    c_4270\n",
      "3  0_2186  2021-10-17 03:27:18.783634   s_105936    c_4597\n",
      "4  0_1351  2021-07-17 20:34:25.800563    s_63642    c_1242\n",
      "\n",
      "\n",
      "taille du dataframe :\n",
      "\n",
      "(337016, 4)\n",
      "\n",
      "\n",
      "<class 'pandas.core.frame.DataFrame'>\n",
      "RangeIndex: 337016 entries, 0 to 337015\n",
      "Data columns (total 4 columns):\n",
      " #   Column      Non-Null Count   Dtype \n",
      "---  ------      --------------   ----- \n",
      " 0   id_prod     337016 non-null  object\n",
      " 1   date        337016 non-null  object\n",
      " 2   session_id  337016 non-null  object\n",
      " 3   client_id   337016 non-null  object\n",
      "dtypes: object(4)\n",
      "memory usage: 10.3+ MB\n",
      "None\n",
      "\n",
      "\n",
      "description du dataset: \n",
      "\n",
      "       id_prod                             date session_id client_id\n",
      "count   337016                           337016     337016    337016\n",
      "unique    3266                           336855     169195      8602\n",
      "top      1_369  test_2021-03-01 02:30:02.237413        s_0    c_1609\n",
      "freq      1081                               13        200     12855\n"
     ]
    }
   ],
   "source": [
    "exploration(transaction)"
   ]
  },
  {
   "cell_type": "code",
   "execution_count": 18,
   "id": "2a894b89",
   "metadata": {},
   "outputs": [
    {
     "name": "stdout",
     "output_type": "stream",
     "text": [
      "126 doublons\n"
     ]
    }
   ],
   "source": [
    "check_doublons(transaction)"
   ]
  },
  {
   "cell_type": "code",
   "execution_count": 19,
   "id": "345a85c8",
   "metadata": {},
   "outputs": [
    {
     "name": "stdout",
     "output_type": "stream",
     "text": [
      "id_prod: 0.0%\n",
      "date: 0.0%\n",
      "session_id: 0.0%\n",
      "client_id: 0.0%\n"
     ]
    }
   ],
   "source": [
    "NaN_percent(transaction, 'id_prod')\n",
    "for i in list(transaction):\n",
    "    print(i +': ' + str(NaN_percent(transaction,i))+'%')"
   ]
  },
  {
   "cell_type": "markdown",
   "id": "337d2d10",
   "metadata": {},
   "source": [
    "    ce dataframe comporte plusieur anomalie :\n",
    "        - 126 doublons \n",
    "        - des valeur de test avec des date anormale  "
   ]
  },
  {
   "cell_type": "code",
   "execution_count": 20,
   "id": "cf562aa6",
   "metadata": {},
   "outputs": [],
   "source": [
    "# suppression des doublons \n",
    "transaction.drop_duplicates(inplace=True)"
   ]
  },
  {
   "cell_type": "code",
   "execution_count": 21,
   "id": "6a99187e",
   "metadata": {},
   "outputs": [
    {
     "name": "stdout",
     "output_type": "stream",
     "text": [
      "0 doublons\n"
     ]
    }
   ],
   "source": [
    "# verification des suppression\n",
    "check_doublons(transaction)"
   ]
  },
  {
   "cell_type": "code",
   "execution_count": 22,
   "id": "0100961d",
   "metadata": {},
   "outputs": [
    {
     "name": "stdout",
     "output_type": "stream",
     "text": [
      "Clés de transaction non présentes dans client :  0\n",
      "Clés de client non présentes dans transaction :  21\n",
      "- - - - - - - - - - - - - - - - - - - - - - - - \n",
      "Clés de transaction non présentes dans produit :  1\n",
      "Clés de produit non présentes dans transaction :  22\n"
     ]
    }
   ],
   "source": [
    "# comparaison de plusieur clé unique entre deux dataframe\n",
    "compare_keys('client_id', client, 'client', transaction, 'transaction') # Comparaison de 'client_id' entre transactions et clients\n",
    "print('- ' * 24)\n",
    "compare_keys('id_prod', produit, 'produit', transaction, 'transaction') # Comparaison de la clé 'id_prod' entre transactions et produits"
   ]
  },
  {
   "cell_type": "code",
   "execution_count": 23,
   "id": "24dd1fb3",
   "metadata": {},
   "outputs": [
    {
     "data": {
      "text/html": [
       "<div>\n",
       "<style scoped>\n",
       "    .dataframe tbody tr th:only-of-type {\n",
       "        vertical-align: middle;\n",
       "    }\n",
       "\n",
       "    .dataframe tbody tr th {\n",
       "        vertical-align: top;\n",
       "    }\n",
       "\n",
       "    .dataframe thead th {\n",
       "        text-align: right;\n",
       "    }\n",
       "</style>\n",
       "<table border=\"1\" class=\"dataframe\">\n",
       "  <thead>\n",
       "    <tr style=\"text-align: right;\">\n",
       "      <th></th>\n",
       "      <th>id_prod</th>\n",
       "      <th>date</th>\n",
       "      <th>session_id</th>\n",
       "      <th>client_id</th>\n",
       "    </tr>\n",
       "  </thead>\n",
       "  <tbody>\n",
       "    <tr>\n",
       "      <th>6235</th>\n",
       "      <td>0_2245</td>\n",
       "      <td>2021-06-17 03:03:12.668129</td>\n",
       "      <td>s_49705</td>\n",
       "      <td>c_1533</td>\n",
       "    </tr>\n",
       "    <tr>\n",
       "      <th>10802</th>\n",
       "      <td>0_2245</td>\n",
       "      <td>2021-06-16 05:53:01.627491</td>\n",
       "      <td>s_49323</td>\n",
       "      <td>c_7954</td>\n",
       "    </tr>\n",
       "    <tr>\n",
       "      <th>14051</th>\n",
       "      <td>0_2245</td>\n",
       "      <td>2021-11-24 17:35:59.911427</td>\n",
       "      <td>s_124474</td>\n",
       "      <td>c_5120</td>\n",
       "    </tr>\n",
       "    <tr>\n",
       "      <th>17486</th>\n",
       "      <td>0_2245</td>\n",
       "      <td>2022-02-28 18:08:49.875709</td>\n",
       "      <td>s_172304</td>\n",
       "      <td>c_4964</td>\n",
       "    </tr>\n",
       "    <tr>\n",
       "      <th>21078</th>\n",
       "      <td>0_2245</td>\n",
       "      <td>2021-03-01 00:09:29.301897</td>\n",
       "      <td>s_3</td>\n",
       "      <td>c_580</td>\n",
       "    </tr>\n",
       "    <tr>\n",
       "      <th>...</th>\n",
       "      <td>...</td>\n",
       "      <td>...</td>\n",
       "      <td>...</td>\n",
       "      <td>...</td>\n",
       "    </tr>\n",
       "    <tr>\n",
       "      <th>322710</th>\n",
       "      <td>0_2245</td>\n",
       "      <td>2021-04-06 19:59:19.462288</td>\n",
       "      <td>s_16936</td>\n",
       "      <td>c_4167</td>\n",
       "    </tr>\n",
       "    <tr>\n",
       "      <th>329417</th>\n",
       "      <td>0_2245</td>\n",
       "      <td>2021-03-30 23:29:02.347672</td>\n",
       "      <td>s_13738</td>\n",
       "      <td>c_7790</td>\n",
       "    </tr>\n",
       "    <tr>\n",
       "      <th>330490</th>\n",
       "      <td>0_2245</td>\n",
       "      <td>2021-12-03 14:14:40.444177</td>\n",
       "      <td>s_128815</td>\n",
       "      <td>c_6189</td>\n",
       "    </tr>\n",
       "    <tr>\n",
       "      <th>335531</th>\n",
       "      <td>0_2245</td>\n",
       "      <td>2021-04-27 18:58:47.703374</td>\n",
       "      <td>s_26624</td>\n",
       "      <td>c_1595</td>\n",
       "    </tr>\n",
       "    <tr>\n",
       "      <th>336220</th>\n",
       "      <td>0_2245</td>\n",
       "      <td>2021-05-01 03:35:03.146305</td>\n",
       "      <td>s_28235</td>\n",
       "      <td>c_5714</td>\n",
       "    </tr>\n",
       "  </tbody>\n",
       "</table>\n",
       "<p>103 rows × 4 columns</p>\n",
       "</div>"
      ],
      "text/plain": [
       "       id_prod                        date session_id client_id\n",
       "6235    0_2245  2021-06-17 03:03:12.668129    s_49705    c_1533\n",
       "10802   0_2245  2021-06-16 05:53:01.627491    s_49323    c_7954\n",
       "14051   0_2245  2021-11-24 17:35:59.911427   s_124474    c_5120\n",
       "17486   0_2245  2022-02-28 18:08:49.875709   s_172304    c_4964\n",
       "21078   0_2245  2021-03-01 00:09:29.301897        s_3     c_580\n",
       "...        ...                         ...        ...       ...\n",
       "322710  0_2245  2021-04-06 19:59:19.462288    s_16936    c_4167\n",
       "329417  0_2245  2021-03-30 23:29:02.347672    s_13738    c_7790\n",
       "330490  0_2245  2021-12-03 14:14:40.444177   s_128815    c_6189\n",
       "335531  0_2245  2021-04-27 18:58:47.703374    s_26624    c_1595\n",
       "336220  0_2245  2021-05-01 03:35:03.146305    s_28235    c_5714\n",
       "\n",
       "[103 rows x 4 columns]"
      ]
     },
     "execution_count": 23,
     "metadata": {},
     "output_type": "execute_result"
    }
   ],
   "source": [
    "transaction.drop(transaction[transaction['id_prod'].isin(produit['id_prod'])].index) "
   ]
  },
  {
   "cell_type": "code",
   "execution_count": 24,
   "id": "f1260c8f",
   "metadata": {},
   "outputs": [
    {
     "data": {
      "text/html": [
       "<div>\n",
       "<style scoped>\n",
       "    .dataframe tbody tr th:only-of-type {\n",
       "        vertical-align: middle;\n",
       "    }\n",
       "\n",
       "    .dataframe tbody tr th {\n",
       "        vertical-align: top;\n",
       "    }\n",
       "\n",
       "    .dataframe thead th {\n",
       "        text-align: right;\n",
       "    }\n",
       "</style>\n",
       "<table border=\"1\" class=\"dataframe\">\n",
       "  <thead>\n",
       "    <tr style=\"text-align: right;\">\n",
       "      <th></th>\n",
       "      <th>id_prod</th>\n",
       "      <th>date</th>\n",
       "      <th>session_id</th>\n",
       "      <th>client_id</th>\n",
       "    </tr>\n",
       "  </thead>\n",
       "  <tbody>\n",
       "    <tr>\n",
       "      <th>count</th>\n",
       "      <td>336890</td>\n",
       "      <td>336890</td>\n",
       "      <td>336890</td>\n",
       "      <td>336890</td>\n",
       "    </tr>\n",
       "    <tr>\n",
       "      <th>unique</th>\n",
       "      <td>3266</td>\n",
       "      <td>336855</td>\n",
       "      <td>169195</td>\n",
       "      <td>8602</td>\n",
       "    </tr>\n",
       "    <tr>\n",
       "      <th>top</th>\n",
       "      <td>1_369</td>\n",
       "      <td>test_2021-03-01 02:30:02.237443</td>\n",
       "      <td>s_0</td>\n",
       "      <td>c_1609</td>\n",
       "    </tr>\n",
       "    <tr>\n",
       "      <th>freq</th>\n",
       "      <td>1081</td>\n",
       "      <td>2</td>\n",
       "      <td>74</td>\n",
       "      <td>12855</td>\n",
       "    </tr>\n",
       "  </tbody>\n",
       "</table>\n",
       "</div>"
      ],
      "text/plain": [
       "       id_prod                             date session_id client_id\n",
       "count   336890                           336890     336890    336890\n",
       "unique    3266                           336855     169195      8602\n",
       "top      1_369  test_2021-03-01 02:30:02.237443        s_0    c_1609\n",
       "freq      1081                                2         74     12855"
      ]
     },
     "execution_count": 24,
     "metadata": {},
     "output_type": "execute_result"
    }
   ],
   "source": [
    "transaction.describe(include='all')"
   ]
  },
  {
   "cell_type": "code",
   "execution_count": 25,
   "id": "888cfe3d",
   "metadata": {},
   "outputs": [],
   "source": [
    "transaction_T = transaction.sort_values(by='date', ascending=False).head(75).reset_index()"
   ]
  },
  {
   "cell_type": "code",
   "execution_count": 26,
   "id": "28eef8d8",
   "metadata": {},
   "outputs": [
    {
     "data": {
      "text/html": [
       "<div>\n",
       "<style scoped>\n",
       "    .dataframe tbody tr th:only-of-type {\n",
       "        vertical-align: middle;\n",
       "    }\n",
       "\n",
       "    .dataframe tbody tr th {\n",
       "        vertical-align: top;\n",
       "    }\n",
       "\n",
       "    .dataframe thead th {\n",
       "        text-align: right;\n",
       "    }\n",
       "</style>\n",
       "<table border=\"1\" class=\"dataframe\">\n",
       "  <thead>\n",
       "    <tr style=\"text-align: right;\">\n",
       "      <th></th>\n",
       "      <th>index</th>\n",
       "      <th>id_prod</th>\n",
       "      <th>date</th>\n",
       "      <th>session_id</th>\n",
       "      <th>client_id</th>\n",
       "    </tr>\n",
       "  </thead>\n",
       "  <tbody>\n",
       "    <tr>\n",
       "      <th>0</th>\n",
       "      <td>38779</td>\n",
       "      <td>T_0</td>\n",
       "      <td>test_2021-03-01 02:30:02.237450</td>\n",
       "      <td>s_0</td>\n",
       "      <td>ct_0</td>\n",
       "    </tr>\n",
       "    <tr>\n",
       "      <th>1</th>\n",
       "      <td>203239</td>\n",
       "      <td>T_0</td>\n",
       "      <td>test_2021-03-01 02:30:02.237449</td>\n",
       "      <td>s_0</td>\n",
       "      <td>ct_0</td>\n",
       "    </tr>\n",
       "    <tr>\n",
       "      <th>2</th>\n",
       "      <td>245346</td>\n",
       "      <td>T_0</td>\n",
       "      <td>test_2021-03-01 02:30:02.237449</td>\n",
       "      <td>s_0</td>\n",
       "      <td>ct_1</td>\n",
       "    </tr>\n",
       "    <tr>\n",
       "      <th>3</th>\n",
       "      <td>317345</td>\n",
       "      <td>T_0</td>\n",
       "      <td>test_2021-03-01 02:30:02.237448</td>\n",
       "      <td>s_0</td>\n",
       "      <td>ct_0</td>\n",
       "    </tr>\n",
       "    <tr>\n",
       "      <th>4</th>\n",
       "      <td>26814</td>\n",
       "      <td>T_0</td>\n",
       "      <td>test_2021-03-01 02:30:02.237447</td>\n",
       "      <td>s_0</td>\n",
       "      <td>ct_1</td>\n",
       "    </tr>\n",
       "    <tr>\n",
       "      <th>...</th>\n",
       "      <td>...</td>\n",
       "      <td>...</td>\n",
       "      <td>...</td>\n",
       "      <td>...</td>\n",
       "      <td>...</td>\n",
       "    </tr>\n",
       "    <tr>\n",
       "      <th>70</th>\n",
       "      <td>57755</td>\n",
       "      <td>T_0</td>\n",
       "      <td>test_2021-03-01 02:30:02.237413</td>\n",
       "      <td>s_0</td>\n",
       "      <td>ct_1</td>\n",
       "    </tr>\n",
       "    <tr>\n",
       "      <th>71</th>\n",
       "      <td>59043</td>\n",
       "      <td>T_0</td>\n",
       "      <td>test_2021-03-01 02:30:02.237413</td>\n",
       "      <td>s_0</td>\n",
       "      <td>ct_0</td>\n",
       "    </tr>\n",
       "    <tr>\n",
       "      <th>72</th>\n",
       "      <td>133443</td>\n",
       "      <td>T_0</td>\n",
       "      <td>test_2021-03-01 02:30:02.237412</td>\n",
       "      <td>s_0</td>\n",
       "      <td>ct_0</td>\n",
       "    </tr>\n",
       "    <tr>\n",
       "      <th>73</th>\n",
       "      <td>22347</td>\n",
       "      <td>T_0</td>\n",
       "      <td>test_2021-03-01 02:30:02.237412</td>\n",
       "      <td>s_0</td>\n",
       "      <td>ct_1</td>\n",
       "    </tr>\n",
       "    <tr>\n",
       "      <th>74</th>\n",
       "      <td>79892</td>\n",
       "      <td>0_1775</td>\n",
       "      <td>2022-02-28 23:59:58.040472</td>\n",
       "      <td>s_172423</td>\n",
       "      <td>c_1460</td>\n",
       "    </tr>\n",
       "  </tbody>\n",
       "</table>\n",
       "<p>75 rows × 5 columns</p>\n",
       "</div>"
      ],
      "text/plain": [
       "     index id_prod                             date session_id client_id\n",
       "0    38779     T_0  test_2021-03-01 02:30:02.237450        s_0      ct_0\n",
       "1   203239     T_0  test_2021-03-01 02:30:02.237449        s_0      ct_0\n",
       "2   245346     T_0  test_2021-03-01 02:30:02.237449        s_0      ct_1\n",
       "3   317345     T_0  test_2021-03-01 02:30:02.237448        s_0      ct_0\n",
       "4    26814     T_0  test_2021-03-01 02:30:02.237447        s_0      ct_1\n",
       "..     ...     ...                              ...        ...       ...\n",
       "70   57755     T_0  test_2021-03-01 02:30:02.237413        s_0      ct_1\n",
       "71   59043     T_0  test_2021-03-01 02:30:02.237413        s_0      ct_0\n",
       "72  133443     T_0  test_2021-03-01 02:30:02.237412        s_0      ct_0\n",
       "73   22347     T_0  test_2021-03-01 02:30:02.237412        s_0      ct_1\n",
       "74   79892  0_1775       2022-02-28 23:59:58.040472   s_172423    c_1460\n",
       "\n",
       "[75 rows x 5 columns]"
      ]
     },
     "execution_count": 26,
     "metadata": {},
     "output_type": "execute_result"
    }
   ],
   "source": [
    "transaction_T"
   ]
  },
  {
   "cell_type": "code",
   "execution_count": 27,
   "id": "cab64c71",
   "metadata": {},
   "outputs": [],
   "source": [
    "transaction_T = transaction_T.loc[:73] # Les 74 lignes de test"
   ]
  },
  {
   "cell_type": "code",
   "execution_count": 28,
   "id": "e1034fca",
   "metadata": {},
   "outputs": [
    {
     "name": "stdout",
     "output_type": "stream",
     "text": [
      "<class 'pandas.core.frame.DataFrame'>\n",
      "Int64Index: 336890 entries, 0 to 337015\n",
      "Data columns (total 4 columns):\n",
      " #   Column      Non-Null Count   Dtype \n",
      "---  ------      --------------   ----- \n",
      " 0   id_prod     336890 non-null  object\n",
      " 1   date        336890 non-null  object\n",
      " 2   session_id  336890 non-null  object\n",
      " 3   client_id   336890 non-null  object\n",
      "dtypes: object(4)\n",
      "memory usage: 20.9+ MB\n"
     ]
    }
   ],
   "source": [
    "transaction.info()"
   ]
  },
  {
   "cell_type": "markdown",
   "id": "6ca8d3b2",
   "metadata": {},
   "source": [
    "## Jointure :\n",
    "#### jointure entre client + produit ( on conserve que les clés de transactions ) les clients qui n'ont pas fait d'achats et les produits invendus sont écartés\n",
    "la clé primaire reste celle de transaction : 'date' + 'client_id',"
   ]
  },
  {
   "cell_type": "code",
   "execution_count": 29,
   "id": "fb378353",
   "metadata": {},
   "outputs": [],
   "source": [
    "df = transaction.merge(client, how='left', on='client_id').merge(produit, how='left', on='id_prod')"
   ]
  },
  {
   "cell_type": "code",
   "execution_count": 30,
   "id": "4d42da17",
   "metadata": {},
   "outputs": [
    {
     "data": {
      "text/html": [
       "<div>\n",
       "<style scoped>\n",
       "    .dataframe tbody tr th:only-of-type {\n",
       "        vertical-align: middle;\n",
       "    }\n",
       "\n",
       "    .dataframe tbody tr th {\n",
       "        vertical-align: top;\n",
       "    }\n",
       "\n",
       "    .dataframe thead th {\n",
       "        text-align: right;\n",
       "    }\n",
       "</style>\n",
       "<table border=\"1\" class=\"dataframe\">\n",
       "  <thead>\n",
       "    <tr style=\"text-align: right;\">\n",
       "      <th></th>\n",
       "      <th>id_prod</th>\n",
       "      <th>date</th>\n",
       "      <th>session_id</th>\n",
       "      <th>client_id</th>\n",
       "      <th>sex</th>\n",
       "      <th>birth</th>\n",
       "      <th>price</th>\n",
       "      <th>categ</th>\n",
       "    </tr>\n",
       "  </thead>\n",
       "  <tbody>\n",
       "    <tr>\n",
       "      <th>0</th>\n",
       "      <td>0_1483</td>\n",
       "      <td>2021-04-10 18:37:28.723910</td>\n",
       "      <td>s_18746</td>\n",
       "      <td>c_4450</td>\n",
       "      <td>f</td>\n",
       "      <td>1977</td>\n",
       "      <td>4.99</td>\n",
       "      <td>0.00</td>\n",
       "    </tr>\n",
       "    <tr>\n",
       "      <th>1</th>\n",
       "      <td>2_226</td>\n",
       "      <td>2022-02-03 01:55:53.276402</td>\n",
       "      <td>s_159142</td>\n",
       "      <td>c_277</td>\n",
       "      <td>f</td>\n",
       "      <td>2000</td>\n",
       "      <td>65.75</td>\n",
       "      <td>2.00</td>\n",
       "    </tr>\n",
       "    <tr>\n",
       "      <th>2</th>\n",
       "      <td>1_374</td>\n",
       "      <td>2021-09-23 15:13:46.938559</td>\n",
       "      <td>s_94290</td>\n",
       "      <td>c_4270</td>\n",
       "      <td>f</td>\n",
       "      <td>1979</td>\n",
       "      <td>10.71</td>\n",
       "      <td>1.00</td>\n",
       "    </tr>\n",
       "    <tr>\n",
       "      <th>3</th>\n",
       "      <td>0_2186</td>\n",
       "      <td>2021-10-17 03:27:18.783634</td>\n",
       "      <td>s_105936</td>\n",
       "      <td>c_4597</td>\n",
       "      <td>m</td>\n",
       "      <td>1963</td>\n",
       "      <td>4.20</td>\n",
       "      <td>0.00</td>\n",
       "    </tr>\n",
       "    <tr>\n",
       "      <th>4</th>\n",
       "      <td>0_1351</td>\n",
       "      <td>2021-07-17 20:34:25.800563</td>\n",
       "      <td>s_63642</td>\n",
       "      <td>c_1242</td>\n",
       "      <td>f</td>\n",
       "      <td>1980</td>\n",
       "      <td>8.99</td>\n",
       "      <td>0.00</td>\n",
       "    </tr>\n",
       "    <tr>\n",
       "      <th>...</th>\n",
       "      <td>...</td>\n",
       "      <td>...</td>\n",
       "      <td>...</td>\n",
       "      <td>...</td>\n",
       "      <td>...</td>\n",
       "      <td>...</td>\n",
       "      <td>...</td>\n",
       "      <td>...</td>\n",
       "    </tr>\n",
       "    <tr>\n",
       "      <th>336885</th>\n",
       "      <td>1_671</td>\n",
       "      <td>2021-05-28 12:35:46.214839</td>\n",
       "      <td>s_40720</td>\n",
       "      <td>c_3454</td>\n",
       "      <td>m</td>\n",
       "      <td>1969</td>\n",
       "      <td>31.99</td>\n",
       "      <td>1.00</td>\n",
       "    </tr>\n",
       "    <tr>\n",
       "      <th>336886</th>\n",
       "      <td>0_759</td>\n",
       "      <td>2021-06-19 00:19:23.917703</td>\n",
       "      <td>s_50568</td>\n",
       "      <td>c_6268</td>\n",
       "      <td>m</td>\n",
       "      <td>1991</td>\n",
       "      <td>22.99</td>\n",
       "      <td>0.00</td>\n",
       "    </tr>\n",
       "    <tr>\n",
       "      <th>336887</th>\n",
       "      <td>0_1256</td>\n",
       "      <td>2021-03-16 17:31:59.442007</td>\n",
       "      <td>s_7219</td>\n",
       "      <td>c_4137</td>\n",
       "      <td>f</td>\n",
       "      <td>1968</td>\n",
       "      <td>11.03</td>\n",
       "      <td>0.00</td>\n",
       "    </tr>\n",
       "    <tr>\n",
       "      <th>336888</th>\n",
       "      <td>2_227</td>\n",
       "      <td>2021-10-30 16:50:15.997750</td>\n",
       "      <td>s_112349</td>\n",
       "      <td>c_5</td>\n",
       "      <td>f</td>\n",
       "      <td>1994</td>\n",
       "      <td>50.99</td>\n",
       "      <td>2.00</td>\n",
       "    </tr>\n",
       "    <tr>\n",
       "      <th>336889</th>\n",
       "      <td>0_1417</td>\n",
       "      <td>2021-06-26 14:38:19.732946</td>\n",
       "      <td>s_54117</td>\n",
       "      <td>c_6714</td>\n",
       "      <td>f</td>\n",
       "      <td>1968</td>\n",
       "      <td>17.99</td>\n",
       "      <td>0.00</td>\n",
       "    </tr>\n",
       "  </tbody>\n",
       "</table>\n",
       "<p>336890 rows × 8 columns</p>\n",
       "</div>"
      ],
      "text/plain": [
       "       id_prod                        date session_id client_id sex  birth  \\\n",
       "0       0_1483  2021-04-10 18:37:28.723910    s_18746    c_4450   f   1977   \n",
       "1        2_226  2022-02-03 01:55:53.276402   s_159142     c_277   f   2000   \n",
       "2        1_374  2021-09-23 15:13:46.938559    s_94290    c_4270   f   1979   \n",
       "3       0_2186  2021-10-17 03:27:18.783634   s_105936    c_4597   m   1963   \n",
       "4       0_1351  2021-07-17 20:34:25.800563    s_63642    c_1242   f   1980   \n",
       "...        ...                         ...        ...       ...  ..    ...   \n",
       "336885   1_671  2021-05-28 12:35:46.214839    s_40720    c_3454   m   1969   \n",
       "336886   0_759  2021-06-19 00:19:23.917703    s_50568    c_6268   m   1991   \n",
       "336887  0_1256  2021-03-16 17:31:59.442007     s_7219    c_4137   f   1968   \n",
       "336888   2_227  2021-10-30 16:50:15.997750   s_112349       c_5   f   1994   \n",
       "336889  0_1417  2021-06-26 14:38:19.732946    s_54117    c_6714   f   1968   \n",
       "\n",
       "        price  categ  \n",
       "0        4.99   0.00  \n",
       "1       65.75   2.00  \n",
       "2       10.71   1.00  \n",
       "3        4.20   0.00  \n",
       "4        8.99   0.00  \n",
       "...       ...    ...  \n",
       "336885  31.99   1.00  \n",
       "336886  22.99   0.00  \n",
       "336887  11.03   0.00  \n",
       "336888  50.99   2.00  \n",
       "336889  17.99   0.00  \n",
       "\n",
       "[336890 rows x 8 columns]"
      ]
     },
     "execution_count": 30,
     "metadata": {},
     "output_type": "execute_result"
    }
   ],
   "source": [
    "df"
   ]
  },
  {
   "cell_type": "code",
   "execution_count": 31,
   "id": "4b5da85b",
   "metadata": {},
   "outputs": [
    {
     "name": "stdout",
     "output_type": "stream",
     "text": [
      "échontillon  \n",
      "\n",
      "  id_prod                        date session_id client_id sex  birth  price  \\\n",
      "0  0_1483  2021-04-10 18:37:28.723910    s_18746    c_4450   f   1977   4.99   \n",
      "1   2_226  2022-02-03 01:55:53.276402   s_159142     c_277   f   2000  65.75   \n",
      "2   1_374  2021-09-23 15:13:46.938559    s_94290    c_4270   f   1979  10.71   \n",
      "3  0_2186  2021-10-17 03:27:18.783634   s_105936    c_4597   m   1963   4.20   \n",
      "4  0_1351  2021-07-17 20:34:25.800563    s_63642    c_1242   f   1980   8.99   \n",
      "\n",
      "   categ  \n",
      "0   0.00  \n",
      "1   2.00  \n",
      "2   1.00  \n",
      "3   0.00  \n",
      "4   0.00  \n",
      "\n",
      "\n",
      "taille du dataframe :\n",
      "\n",
      "(336890, 8)\n",
      "\n",
      "\n",
      "<class 'pandas.core.frame.DataFrame'>\n",
      "Int64Index: 336890 entries, 0 to 336889\n",
      "Data columns (total 8 columns):\n",
      " #   Column      Non-Null Count   Dtype  \n",
      "---  ------      --------------   -----  \n",
      " 0   id_prod     336890 non-null  object \n",
      " 1   date        336890 non-null  object \n",
      " 2   session_id  336890 non-null  object \n",
      " 3   client_id   336890 non-null  object \n",
      " 4   sex         336890 non-null  object \n",
      " 5   birth       336890 non-null  int64  \n",
      " 6   price       336787 non-null  float64\n",
      " 7   categ       336787 non-null  float64\n",
      "dtypes: float64(2), int64(1), object(5)\n",
      "memory usage: 23.1+ MB\n",
      "None\n",
      "\n",
      "\n",
      "description du dataset: \n",
      "\n",
      "       id_prod                             date session_id client_id     sex  \\\n",
      "count   336890                           336890     336890    336890  336890   \n",
      "unique    3266                           336855     169195      8602       2   \n",
      "top      1_369  test_2021-03-01 02:30:02.237443        s_0    c_1609       m   \n",
      "freq      1081                                2         74     12855  169278   \n",
      "mean       NaN                              NaN        NaN       NaN     NaN   \n",
      "std        NaN                              NaN        NaN       NaN     NaN   \n",
      "min        NaN                              NaN        NaN       NaN     NaN   \n",
      "25%        NaN                              NaN        NaN       NaN     NaN   \n",
      "50%        NaN                              NaN        NaN       NaN     NaN   \n",
      "75%        NaN                              NaN        NaN       NaN     NaN   \n",
      "max        NaN                              NaN        NaN       NaN     NaN   \n",
      "\n",
      "            birth      price      categ  \n",
      "count  336,890.00 336,787.00 336,787.00  \n",
      "unique        NaN        NaN        NaN  \n",
      "top           NaN        NaN        NaN  \n",
      "freq          NaN        NaN        NaN  \n",
      "mean     1,977.83      17.21       0.43  \n",
      "std         13.53      17.86       0.59  \n",
      "min      1,929.00      -1.00       0.00  \n",
      "25%      1,971.00       8.58       0.00  \n",
      "50%      1,980.00      13.90       0.00  \n",
      "75%      1,987.00      18.99       1.00  \n",
      "max      2,004.00     300.00       2.00  \n"
     ]
    }
   ],
   "source": [
    "exploration(df)"
   ]
  },
  {
   "cell_type": "markdown",
   "id": "d97b55a8",
   "metadata": {},
   "source": [
    "### Nettoyage des données"
   ]
  },
  {
   "cell_type": "code",
   "execution_count": 32,
   "id": "681fe7d0",
   "metadata": {},
   "outputs": [
    {
     "name": "stdout",
     "output_type": "stream",
     "text": [
      "0 doublons\n"
     ]
    }
   ],
   "source": [
    "check_doublons(df)"
   ]
  },
  {
   "cell_type": "code",
   "execution_count": 33,
   "id": "05ff0753",
   "metadata": {},
   "outputs": [
    {
     "name": "stdout",
     "output_type": "stream",
     "text": [
      "id_prod: 0.0%\n",
      "date: 0.0%\n",
      "session_id: 0.0%\n",
      "client_id: 0.0%\n",
      "sex: 0.0%\n",
      "birth: 0.0%\n",
      "price: 0.030573777790970345%\n",
      "categ: 0.030573777790970345%\n"
     ]
    }
   ],
   "source": [
    "NaN_percent(df, 'id_prod')\n",
    "for i in list(df):\n",
    "    print(i +': ' + str(NaN_percent(df,i))+'%')"
   ]
  },
  {
   "cell_type": "code",
   "execution_count": 34,
   "id": "d3b98b80",
   "metadata": {
    "scrolled": true
   },
   "outputs": [
    {
     "data": {
      "text/html": [
       "<div>\n",
       "<style scoped>\n",
       "    .dataframe tbody tr th:only-of-type {\n",
       "        vertical-align: middle;\n",
       "    }\n",
       "\n",
       "    .dataframe tbody tr th {\n",
       "        vertical-align: top;\n",
       "    }\n",
       "\n",
       "    .dataframe thead th {\n",
       "        text-align: right;\n",
       "    }\n",
       "</style>\n",
       "<table border=\"1\" class=\"dataframe\">\n",
       "  <thead>\n",
       "    <tr style=\"text-align: right;\">\n",
       "      <th></th>\n",
       "      <th>id_prod</th>\n",
       "      <th>date</th>\n",
       "      <th>session_id</th>\n",
       "      <th>client_id</th>\n",
       "      <th>sex</th>\n",
       "      <th>birth</th>\n",
       "      <th>price</th>\n",
       "      <th>categ</th>\n",
       "    </tr>\n",
       "  </thead>\n",
       "  <tbody>\n",
       "    <tr>\n",
       "      <th>6235</th>\n",
       "      <td>0_2245</td>\n",
       "      <td>2021-06-17 03:03:12.668129</td>\n",
       "      <td>s_49705</td>\n",
       "      <td>c_1533</td>\n",
       "      <td>m</td>\n",
       "      <td>1972</td>\n",
       "      <td>NaN</td>\n",
       "      <td>NaN</td>\n",
       "    </tr>\n",
       "    <tr>\n",
       "      <th>10802</th>\n",
       "      <td>0_2245</td>\n",
       "      <td>2021-06-16 05:53:01.627491</td>\n",
       "      <td>s_49323</td>\n",
       "      <td>c_7954</td>\n",
       "      <td>m</td>\n",
       "      <td>1973</td>\n",
       "      <td>NaN</td>\n",
       "      <td>NaN</td>\n",
       "    </tr>\n",
       "    <tr>\n",
       "      <th>14051</th>\n",
       "      <td>0_2245</td>\n",
       "      <td>2021-11-24 17:35:59.911427</td>\n",
       "      <td>s_124474</td>\n",
       "      <td>c_5120</td>\n",
       "      <td>f</td>\n",
       "      <td>1975</td>\n",
       "      <td>NaN</td>\n",
       "      <td>NaN</td>\n",
       "    </tr>\n",
       "    <tr>\n",
       "      <th>17486</th>\n",
       "      <td>0_2245</td>\n",
       "      <td>2022-02-28 18:08:49.875709</td>\n",
       "      <td>s_172304</td>\n",
       "      <td>c_4964</td>\n",
       "      <td>f</td>\n",
       "      <td>1982</td>\n",
       "      <td>NaN</td>\n",
       "      <td>NaN</td>\n",
       "    </tr>\n",
       "    <tr>\n",
       "      <th>21078</th>\n",
       "      <td>0_2245</td>\n",
       "      <td>2021-03-01 00:09:29.301897</td>\n",
       "      <td>s_3</td>\n",
       "      <td>c_580</td>\n",
       "      <td>m</td>\n",
       "      <td>1988</td>\n",
       "      <td>NaN</td>\n",
       "      <td>NaN</td>\n",
       "    </tr>\n",
       "    <tr>\n",
       "      <th>...</th>\n",
       "      <td>...</td>\n",
       "      <td>...</td>\n",
       "      <td>...</td>\n",
       "      <td>...</td>\n",
       "      <td>...</td>\n",
       "      <td>...</td>\n",
       "      <td>...</td>\n",
       "      <td>...</td>\n",
       "    </tr>\n",
       "    <tr>\n",
       "      <th>322597</th>\n",
       "      <td>0_2245</td>\n",
       "      <td>2021-04-06 19:59:19.462288</td>\n",
       "      <td>s_16936</td>\n",
       "      <td>c_4167</td>\n",
       "      <td>f</td>\n",
       "      <td>1979</td>\n",
       "      <td>NaN</td>\n",
       "      <td>NaN</td>\n",
       "    </tr>\n",
       "    <tr>\n",
       "      <th>329300</th>\n",
       "      <td>0_2245</td>\n",
       "      <td>2021-03-30 23:29:02.347672</td>\n",
       "      <td>s_13738</td>\n",
       "      <td>c_7790</td>\n",
       "      <td>f</td>\n",
       "      <td>1983</td>\n",
       "      <td>NaN</td>\n",
       "      <td>NaN</td>\n",
       "    </tr>\n",
       "    <tr>\n",
       "      <th>330371</th>\n",
       "      <td>0_2245</td>\n",
       "      <td>2021-12-03 14:14:40.444177</td>\n",
       "      <td>s_128815</td>\n",
       "      <td>c_6189</td>\n",
       "      <td>f</td>\n",
       "      <td>1984</td>\n",
       "      <td>NaN</td>\n",
       "      <td>NaN</td>\n",
       "    </tr>\n",
       "    <tr>\n",
       "      <th>335405</th>\n",
       "      <td>0_2245</td>\n",
       "      <td>2021-04-27 18:58:47.703374</td>\n",
       "      <td>s_26624</td>\n",
       "      <td>c_1595</td>\n",
       "      <td>f</td>\n",
       "      <td>1973</td>\n",
       "      <td>NaN</td>\n",
       "      <td>NaN</td>\n",
       "    </tr>\n",
       "    <tr>\n",
       "      <th>336094</th>\n",
       "      <td>0_2245</td>\n",
       "      <td>2021-05-01 03:35:03.146305</td>\n",
       "      <td>s_28235</td>\n",
       "      <td>c_5714</td>\n",
       "      <td>f</td>\n",
       "      <td>1972</td>\n",
       "      <td>NaN</td>\n",
       "      <td>NaN</td>\n",
       "    </tr>\n",
       "  </tbody>\n",
       "</table>\n",
       "<p>103 rows × 8 columns</p>\n",
       "</div>"
      ],
      "text/plain": [
       "       id_prod                        date session_id client_id sex  birth  \\\n",
       "6235    0_2245  2021-06-17 03:03:12.668129    s_49705    c_1533   m   1972   \n",
       "10802   0_2245  2021-06-16 05:53:01.627491    s_49323    c_7954   m   1973   \n",
       "14051   0_2245  2021-11-24 17:35:59.911427   s_124474    c_5120   f   1975   \n",
       "17486   0_2245  2022-02-28 18:08:49.875709   s_172304    c_4964   f   1982   \n",
       "21078   0_2245  2021-03-01 00:09:29.301897        s_3     c_580   m   1988   \n",
       "...        ...                         ...        ...       ...  ..    ...   \n",
       "322597  0_2245  2021-04-06 19:59:19.462288    s_16936    c_4167   f   1979   \n",
       "329300  0_2245  2021-03-30 23:29:02.347672    s_13738    c_7790   f   1983   \n",
       "330371  0_2245  2021-12-03 14:14:40.444177   s_128815    c_6189   f   1984   \n",
       "335405  0_2245  2021-04-27 18:58:47.703374    s_26624    c_1595   f   1973   \n",
       "336094  0_2245  2021-05-01 03:35:03.146305    s_28235    c_5714   f   1972   \n",
       "\n",
       "        price  categ  \n",
       "6235      NaN    NaN  \n",
       "10802     NaN    NaN  \n",
       "14051     NaN    NaN  \n",
       "17486     NaN    NaN  \n",
       "21078     NaN    NaN  \n",
       "...       ...    ...  \n",
       "322597    NaN    NaN  \n",
       "329300    NaN    NaN  \n",
       "330371    NaN    NaN  \n",
       "335405    NaN    NaN  \n",
       "336094    NaN    NaN  \n",
       "\n",
       "[103 rows x 8 columns]"
      ]
     },
     "execution_count": 34,
     "metadata": {},
     "output_type": "execute_result"
    }
   ],
   "source": [
    "df[(df['price'].isnull()) & (df['categ'].isnull())]"
   ]
  },
  {
   "cell_type": "code",
   "execution_count": 35,
   "id": "621fb175",
   "metadata": {},
   "outputs": [
    {
     "data": {
      "text/html": [
       "<div>\n",
       "<style scoped>\n",
       "    .dataframe tbody tr th:only-of-type {\n",
       "        vertical-align: middle;\n",
       "    }\n",
       "\n",
       "    .dataframe tbody tr th {\n",
       "        vertical-align: top;\n",
       "    }\n",
       "\n",
       "    .dataframe thead th {\n",
       "        text-align: right;\n",
       "    }\n",
       "</style>\n",
       "<table border=\"1\" class=\"dataframe\">\n",
       "  <thead>\n",
       "    <tr style=\"text-align: right;\">\n",
       "      <th></th>\n",
       "      <th>id_prod</th>\n",
       "      <th>date</th>\n",
       "      <th>session_id</th>\n",
       "      <th>client_id</th>\n",
       "      <th>sex</th>\n",
       "      <th>birth</th>\n",
       "      <th>price</th>\n",
       "      <th>categ</th>\n",
       "    </tr>\n",
       "  </thead>\n",
       "  <tbody>\n",
       "    <tr>\n",
       "      <th>1431</th>\n",
       "      <td>T_0</td>\n",
       "      <td>test_2021-03-01 02:30:02.237420</td>\n",
       "      <td>s_0</td>\n",
       "      <td>ct_1</td>\n",
       "      <td>m</td>\n",
       "      <td>2001</td>\n",
       "      <td>-1.00</td>\n",
       "      <td>0.00</td>\n",
       "    </tr>\n",
       "    <tr>\n",
       "      <th>2365</th>\n",
       "      <td>T_0</td>\n",
       "      <td>test_2021-03-01 02:30:02.237446</td>\n",
       "      <td>s_0</td>\n",
       "      <td>ct_1</td>\n",
       "      <td>m</td>\n",
       "      <td>2001</td>\n",
       "      <td>-1.00</td>\n",
       "      <td>0.00</td>\n",
       "    </tr>\n",
       "    <tr>\n",
       "      <th>2895</th>\n",
       "      <td>T_0</td>\n",
       "      <td>test_2021-03-01 02:30:02.237414</td>\n",
       "      <td>s_0</td>\n",
       "      <td>ct_1</td>\n",
       "      <td>m</td>\n",
       "      <td>2001</td>\n",
       "      <td>-1.00</td>\n",
       "      <td>0.00</td>\n",
       "    </tr>\n",
       "    <tr>\n",
       "      <th>5955</th>\n",
       "      <td>T_0</td>\n",
       "      <td>test_2021-03-01 02:30:02.237441</td>\n",
       "      <td>s_0</td>\n",
       "      <td>ct_0</td>\n",
       "      <td>f</td>\n",
       "      <td>2001</td>\n",
       "      <td>-1.00</td>\n",
       "      <td>0.00</td>\n",
       "    </tr>\n",
       "    <tr>\n",
       "      <th>7283</th>\n",
       "      <td>T_0</td>\n",
       "      <td>test_2021-03-01 02:30:02.237434</td>\n",
       "      <td>s_0</td>\n",
       "      <td>ct_1</td>\n",
       "      <td>m</td>\n",
       "      <td>2001</td>\n",
       "      <td>-1.00</td>\n",
       "      <td>0.00</td>\n",
       "    </tr>\n",
       "    <tr>\n",
       "      <th>...</th>\n",
       "      <td>...</td>\n",
       "      <td>...</td>\n",
       "      <td>...</td>\n",
       "      <td>...</td>\n",
       "      <td>...</td>\n",
       "      <td>...</td>\n",
       "      <td>...</td>\n",
       "      <td>...</td>\n",
       "    </tr>\n",
       "    <tr>\n",
       "      <th>264229</th>\n",
       "      <td>T_0</td>\n",
       "      <td>test_2021-03-01 02:30:02.237416</td>\n",
       "      <td>s_0</td>\n",
       "      <td>ct_1</td>\n",
       "      <td>m</td>\n",
       "      <td>2001</td>\n",
       "      <td>-1.00</td>\n",
       "      <td>0.00</td>\n",
       "    </tr>\n",
       "    <tr>\n",
       "      <th>288815</th>\n",
       "      <td>T_0</td>\n",
       "      <td>test_2021-03-01 02:30:02.237415</td>\n",
       "      <td>s_0</td>\n",
       "      <td>ct_1</td>\n",
       "      <td>m</td>\n",
       "      <td>2001</td>\n",
       "      <td>-1.00</td>\n",
       "      <td>0.00</td>\n",
       "    </tr>\n",
       "    <tr>\n",
       "      <th>293003</th>\n",
       "      <td>T_0</td>\n",
       "      <td>test_2021-03-01 02:30:02.237421</td>\n",
       "      <td>s_0</td>\n",
       "      <td>ct_0</td>\n",
       "      <td>f</td>\n",
       "      <td>2001</td>\n",
       "      <td>-1.00</td>\n",
       "      <td>0.00</td>\n",
       "    </tr>\n",
       "    <tr>\n",
       "      <th>298292</th>\n",
       "      <td>T_0</td>\n",
       "      <td>test_2021-03-01 02:30:02.237423</td>\n",
       "      <td>s_0</td>\n",
       "      <td>ct_1</td>\n",
       "      <td>m</td>\n",
       "      <td>2001</td>\n",
       "      <td>-1.00</td>\n",
       "      <td>0.00</td>\n",
       "    </tr>\n",
       "    <tr>\n",
       "      <th>317233</th>\n",
       "      <td>T_0</td>\n",
       "      <td>test_2021-03-01 02:30:02.237448</td>\n",
       "      <td>s_0</td>\n",
       "      <td>ct_0</td>\n",
       "      <td>f</td>\n",
       "      <td>2001</td>\n",
       "      <td>-1.00</td>\n",
       "      <td>0.00</td>\n",
       "    </tr>\n",
       "  </tbody>\n",
       "</table>\n",
       "<p>74 rows × 8 columns</p>\n",
       "</div>"
      ],
      "text/plain": [
       "       id_prod                             date session_id client_id sex  \\\n",
       "1431       T_0  test_2021-03-01 02:30:02.237420        s_0      ct_1   m   \n",
       "2365       T_0  test_2021-03-01 02:30:02.237446        s_0      ct_1   m   \n",
       "2895       T_0  test_2021-03-01 02:30:02.237414        s_0      ct_1   m   \n",
       "5955       T_0  test_2021-03-01 02:30:02.237441        s_0      ct_0   f   \n",
       "7283       T_0  test_2021-03-01 02:30:02.237434        s_0      ct_1   m   \n",
       "...        ...                              ...        ...       ...  ..   \n",
       "264229     T_0  test_2021-03-01 02:30:02.237416        s_0      ct_1   m   \n",
       "288815     T_0  test_2021-03-01 02:30:02.237415        s_0      ct_1   m   \n",
       "293003     T_0  test_2021-03-01 02:30:02.237421        s_0      ct_0   f   \n",
       "298292     T_0  test_2021-03-01 02:30:02.237423        s_0      ct_1   m   \n",
       "317233     T_0  test_2021-03-01 02:30:02.237448        s_0      ct_0   f   \n",
       "\n",
       "        birth  price  categ  \n",
       "1431     2001  -1.00   0.00  \n",
       "2365     2001  -1.00   0.00  \n",
       "2895     2001  -1.00   0.00  \n",
       "5955     2001  -1.00   0.00  \n",
       "7283     2001  -1.00   0.00  \n",
       "...       ...    ...    ...  \n",
       "264229   2001  -1.00   0.00  \n",
       "288815   2001  -1.00   0.00  \n",
       "293003   2001  -1.00   0.00  \n",
       "298292   2001  -1.00   0.00  \n",
       "317233   2001  -1.00   0.00  \n",
       "\n",
       "[74 rows x 8 columns]"
      ]
     },
     "execution_count": 35,
     "metadata": {},
     "output_type": "execute_result"
    }
   ],
   "source": [
    "# les donnée de test \n",
    "lt = df[ \n",
    "    (df['date'].str.contains('test_')) &\n",
    "    (df['price']<=0) &\n",
    "    (df['id_prod']=='T_0') &  \n",
    "    (df['session_id']=='s_0')]\n",
    "lt"
   ]
  },
  {
   "cell_type": "code",
   "execution_count": 36,
   "id": "c1fdcb1a",
   "metadata": {},
   "outputs": [
    {
     "name": "stdout",
     "output_type": "stream",
     "text": [
      "74 lignes tests supprimées\n"
     ]
    }
   ],
   "source": [
    "lbf = len(df) # Nombre de lignes dans df avant suppression des lignes tests\n",
    "df = df.drop(lt.index).reset_index() # Suppression des lignes tests\n",
    "print(lbf - len(df), 'lignes tests supprimées') # Nombre de lignes dans data après nettoyage"
   ]
  },
  {
   "cell_type": "code",
   "execution_count": 37,
   "id": "cc7a20a9",
   "metadata": {},
   "outputs": [
    {
     "name": "stdout",
     "output_type": "stream",
     "text": [
      "<class 'pandas.core.frame.DataFrame'>\n",
      "RangeIndex: 336816 entries, 0 to 336815\n",
      "Data columns (total 9 columns):\n",
      " #   Column      Non-Null Count   Dtype         \n",
      "---  ------      --------------   -----         \n",
      " 0   index       336816 non-null  int64         \n",
      " 1   id_prod     336816 non-null  object        \n",
      " 2   date        336816 non-null  datetime64[ns]\n",
      " 3   session_id  336816 non-null  object        \n",
      " 4   client_id   336816 non-null  object        \n",
      " 5   sex         336816 non-null  object        \n",
      " 6   birth       336816 non-null  int64         \n",
      " 7   price       336713 non-null  float64       \n",
      " 8   categ       336713 non-null  float64       \n",
      "dtypes: datetime64[ns](1), float64(2), int64(2), object(4)\n",
      "memory usage: 23.1+ MB\n"
     ]
    }
   ],
   "source": [
    "df['date'] = pd.to_datetime(df['date'], format='%Y-%m-%d') # Conversion de 'date' en datetime\n",
    "df.info()"
   ]
  },
  {
   "cell_type": "code",
   "execution_count": 38,
   "id": "a347101f",
   "metadata": {},
   "outputs": [],
   "source": [
    "url = 'graph/'"
   ]
  },
  {
   "cell_type": "code",
   "execution_count": 39,
   "id": "d4eddb45",
   "metadata": {
    "scrolled": true
   },
   "outputs": [
    {
     "data": {
      "image/png": "[encoded data removed]",
      "text/plain": [
       "<Figure size 864x576 with 1 Axes>"
      ]
     },
     "metadata": {},
     "output_type": "display_data"
    }
   ],
   "source": [
    "plt.figure(figsize=(12,8))\n",
    "sns.histplot(data=df, x='date', hue='categ', palette=[\"#3498db\", \"#95a5a6\", \"#34495e\"])\n",
    "plt.xticks(rotation=45)\n",
    "plt.title('Volume des ventes par rapport au date et la catégorie')\n",
    "plt.savefig(url + 'histogramme_octobre_avant_suppression.png', dpi=300, bbox_inches='tight')\n",
    "plt.show()"
   ]
  },
  {
   "cell_type": "code",
   "execution_count": 40,
   "id": "1d552453",
   "metadata": {},
   "outputs": [],
   "source": [
    "octobre = df[(df['date']>='2021-10-01') & (df['date']<='2021-10-31')]"
   ]
  },
  {
   "cell_type": "code",
   "execution_count": 41,
   "id": "8fde9c34",
   "metadata": {},
   "outputs": [
    {
     "name": "stdout",
     "output_type": "stream",
     "text": [
      "Mois d'octobre =  6.1 % du dataset écarté\n"
     ]
    }
   ],
   "source": [
    "\"\"\"\n",
    "grâce au graphique nous pouvons appercevoire une anomalie au mois d'octobre \n",
    "\"\"\"\n",
    "# suppression du mois d'octobre \n",
    "len_b = len(df)\n",
    "df.drop(octobre.index, inplace=True)\n",
    "print('Mois d\\'octobre = ', round(((len_b - len(df)) / len_b * 100), 1), '% du dataset écarté')"
   ]
  },
  {
   "cell_type": "code",
   "execution_count": 42,
   "id": "6ba305c6",
   "metadata": {},
   "outputs": [
    {
     "data": {
      "image/png": "[encoded data removed]",
      "text/plain": [
       "<Figure size 864x576 with 1 Axes>"
      ]
     },
     "metadata": {},
     "output_type": "display_data"
    }
   ],
   "source": [
    "plt.figure(figsize=(12,8))\n",
    "sns.histplot(data=df, x='date', hue='categ', palette=[\"#3498db\", \"#95a5a6\", \"#34495e\"])\n",
    "plt.xticks(rotation=45)\n",
    "plt.title('Volume des ventes par rapport au date et la catégorie')\n",
    "plt.savefig(url + 'histogramme_octobre_apres_suppression.png', dpi=300, bbox_inches='tight')\n",
    "plt.show()\n"
   ]
  },
  {
   "cell_type": "markdown",
   "id": "7257f7c3",
   "metadata": {},
   "source": [
    "#### Les valeur manquante "
   ]
  },
  {
   "cell_type": "code",
   "execution_count": 43,
   "id": "a996da1f",
   "metadata": {},
   "outputs": [
    {
     "data": {
      "text/html": [
       "<div>\n",
       "<style scoped>\n",
       "    .dataframe tbody tr th:only-of-type {\n",
       "        vertical-align: middle;\n",
       "    }\n",
       "\n",
       "    .dataframe tbody tr th {\n",
       "        vertical-align: top;\n",
       "    }\n",
       "\n",
       "    .dataframe thead th {\n",
       "        text-align: right;\n",
       "    }\n",
       "</style>\n",
       "<table border=\"1\" class=\"dataframe\">\n",
       "  <thead>\n",
       "    <tr style=\"text-align: right;\">\n",
       "      <th></th>\n",
       "      <th>index</th>\n",
       "      <th>id_prod</th>\n",
       "      <th>date</th>\n",
       "      <th>session_id</th>\n",
       "      <th>client_id</th>\n",
       "      <th>sex</th>\n",
       "      <th>birth</th>\n",
       "      <th>price</th>\n",
       "      <th>categ</th>\n",
       "    </tr>\n",
       "  </thead>\n",
       "  <tbody>\n",
       "    <tr>\n",
       "      <th>6231</th>\n",
       "      <td>6235</td>\n",
       "      <td>0_2245</td>\n",
       "      <td>2021-06-17 03:03:12.668129</td>\n",
       "      <td>s_49705</td>\n",
       "      <td>c_1533</td>\n",
       "      <td>m</td>\n",
       "      <td>1972</td>\n",
       "      <td>NaN</td>\n",
       "      <td>NaN</td>\n",
       "    </tr>\n",
       "    <tr>\n",
       "      <th>10797</th>\n",
       "      <td>10802</td>\n",
       "      <td>0_2245</td>\n",
       "      <td>2021-06-16 05:53:01.627491</td>\n",
       "      <td>s_49323</td>\n",
       "      <td>c_7954</td>\n",
       "      <td>m</td>\n",
       "      <td>1973</td>\n",
       "      <td>NaN</td>\n",
       "      <td>NaN</td>\n",
       "    </tr>\n",
       "    <tr>\n",
       "      <th>14045</th>\n",
       "      <td>14051</td>\n",
       "      <td>0_2245</td>\n",
       "      <td>2021-11-24 17:35:59.911427</td>\n",
       "      <td>s_124474</td>\n",
       "      <td>c_5120</td>\n",
       "      <td>f</td>\n",
       "      <td>1975</td>\n",
       "      <td>NaN</td>\n",
       "      <td>NaN</td>\n",
       "    </tr>\n",
       "    <tr>\n",
       "      <th>17480</th>\n",
       "      <td>17486</td>\n",
       "      <td>0_2245</td>\n",
       "      <td>2022-02-28 18:08:49.875709</td>\n",
       "      <td>s_172304</td>\n",
       "      <td>c_4964</td>\n",
       "      <td>f</td>\n",
       "      <td>1982</td>\n",
       "      <td>NaN</td>\n",
       "      <td>NaN</td>\n",
       "    </tr>\n",
       "    <tr>\n",
       "      <th>21071</th>\n",
       "      <td>21078</td>\n",
       "      <td>0_2245</td>\n",
       "      <td>2021-03-01 00:09:29.301897</td>\n",
       "      <td>s_3</td>\n",
       "      <td>c_580</td>\n",
       "      <td>m</td>\n",
       "      <td>1988</td>\n",
       "      <td>NaN</td>\n",
       "      <td>NaN</td>\n",
       "    </tr>\n",
       "    <tr>\n",
       "      <th>...</th>\n",
       "      <td>...</td>\n",
       "      <td>...</td>\n",
       "      <td>...</td>\n",
       "      <td>...</td>\n",
       "      <td>...</td>\n",
       "      <td>...</td>\n",
       "      <td>...</td>\n",
       "      <td>...</td>\n",
       "      <td>...</td>\n",
       "    </tr>\n",
       "    <tr>\n",
       "      <th>322523</th>\n",
       "      <td>322597</td>\n",
       "      <td>0_2245</td>\n",
       "      <td>2021-04-06 19:59:19.462288</td>\n",
       "      <td>s_16936</td>\n",
       "      <td>c_4167</td>\n",
       "      <td>f</td>\n",
       "      <td>1979</td>\n",
       "      <td>NaN</td>\n",
       "      <td>NaN</td>\n",
       "    </tr>\n",
       "    <tr>\n",
       "      <th>329226</th>\n",
       "      <td>329300</td>\n",
       "      <td>0_2245</td>\n",
       "      <td>2021-03-30 23:29:02.347672</td>\n",
       "      <td>s_13738</td>\n",
       "      <td>c_7790</td>\n",
       "      <td>f</td>\n",
       "      <td>1983</td>\n",
       "      <td>NaN</td>\n",
       "      <td>NaN</td>\n",
       "    </tr>\n",
       "    <tr>\n",
       "      <th>330297</th>\n",
       "      <td>330371</td>\n",
       "      <td>0_2245</td>\n",
       "      <td>2021-12-03 14:14:40.444177</td>\n",
       "      <td>s_128815</td>\n",
       "      <td>c_6189</td>\n",
       "      <td>f</td>\n",
       "      <td>1984</td>\n",
       "      <td>NaN</td>\n",
       "      <td>NaN</td>\n",
       "    </tr>\n",
       "    <tr>\n",
       "      <th>335331</th>\n",
       "      <td>335405</td>\n",
       "      <td>0_2245</td>\n",
       "      <td>2021-04-27 18:58:47.703374</td>\n",
       "      <td>s_26624</td>\n",
       "      <td>c_1595</td>\n",
       "      <td>f</td>\n",
       "      <td>1973</td>\n",
       "      <td>NaN</td>\n",
       "      <td>NaN</td>\n",
       "    </tr>\n",
       "    <tr>\n",
       "      <th>336020</th>\n",
       "      <td>336094</td>\n",
       "      <td>0_2245</td>\n",
       "      <td>2021-05-01 03:35:03.146305</td>\n",
       "      <td>s_28235</td>\n",
       "      <td>c_5714</td>\n",
       "      <td>f</td>\n",
       "      <td>1972</td>\n",
       "      <td>NaN</td>\n",
       "      <td>NaN</td>\n",
       "    </tr>\n",
       "  </tbody>\n",
       "</table>\n",
       "<p>96 rows × 9 columns</p>\n",
       "</div>"
      ],
      "text/plain": [
       "         index id_prod                       date session_id client_id sex  \\\n",
       "6231      6235  0_2245 2021-06-17 03:03:12.668129    s_49705    c_1533   m   \n",
       "10797    10802  0_2245 2021-06-16 05:53:01.627491    s_49323    c_7954   m   \n",
       "14045    14051  0_2245 2021-11-24 17:35:59.911427   s_124474    c_5120   f   \n",
       "17480    17486  0_2245 2022-02-28 18:08:49.875709   s_172304    c_4964   f   \n",
       "21071    21078  0_2245 2021-03-01 00:09:29.301897        s_3     c_580   m   \n",
       "...        ...     ...                        ...        ...       ...  ..   \n",
       "322523  322597  0_2245 2021-04-06 19:59:19.462288    s_16936    c_4167   f   \n",
       "329226  329300  0_2245 2021-03-30 23:29:02.347672    s_13738    c_7790   f   \n",
       "330297  330371  0_2245 2021-12-03 14:14:40.444177   s_128815    c_6189   f   \n",
       "335331  335405  0_2245 2021-04-27 18:58:47.703374    s_26624    c_1595   f   \n",
       "336020  336094  0_2245 2021-05-01 03:35:03.146305    s_28235    c_5714   f   \n",
       "\n",
       "        birth  price  categ  \n",
       "6231     1972    NaN    NaN  \n",
       "10797    1973    NaN    NaN  \n",
       "14045    1975    NaN    NaN  \n",
       "17480    1982    NaN    NaN  \n",
       "21071    1988    NaN    NaN  \n",
       "...       ...    ...    ...  \n",
       "322523   1979    NaN    NaN  \n",
       "329226   1983    NaN    NaN  \n",
       "330297   1984    NaN    NaN  \n",
       "335331   1973    NaN    NaN  \n",
       "336020   1972    NaN    NaN  \n",
       "\n",
       "[96 rows x 9 columns]"
      ]
     },
     "execution_count": 43,
     "metadata": {},
     "output_type": "execute_result"
    }
   ],
   "source": [
    "p_0_2245 = df[df['id_prod']=='0_2245']\n",
    "p_0_2245"
   ]
  },
  {
   "cell_type": "code",
   "execution_count": 44,
   "id": "0005924a",
   "metadata": {},
   "outputs": [
    {
     "name": "stdout",
     "output_type": "stream",
     "text": [
      "Les valeurs manquantes corresponde à  0.03 % du dataframe\n"
     ]
    }
   ],
   "source": [
    "print('Les valeurs manquantes corresponde à ', round((len(p_0_2245)/len(df)*100), 2), '% du dataframe')"
   ]
  },
  {
   "cell_type": "markdown",
   "id": "d0969cf2",
   "metadata": {},
   "source": [
    "    plusieur choix s'offre a nous pour traité ces valeurs manquantes :\n",
    "        - supprimer ces valeur (dans notre cas ça n'affectera pas les\n",
    "        analyse vue que ça ne represente que 0.03 % de tout les valeus \n",
    "            \n",
    "        - faire une imputaiton c'est à dire remplacer ces valeurs\n",
    "        manquantes par une valeur comme une moyenne, une mediane ou un\n",
    "        mode"
   ]
  },
  {
   "cell_type": "code",
   "execution_count": 45,
   "id": "c4579e58",
   "metadata": {},
   "outputs": [
    {
     "name": "stdout",
     "output_type": "stream",
     "text": [
      "Préfixes de 'id_prod' :\n",
      "- catégorie 0.0 : ['0_']\n",
      "- catégorie 2.0 : ['2_']\n",
      "- catégorie 1.0 : ['1_']\n"
     ]
    }
   ],
   "source": [
    "df_test = df.dropna() # sample des commande sans le produit 0_2245\n",
    "\n",
    "# Conversion en string des 2 premiers caractères de la valeur de 'id_prod'\n",
    "df_test['id_prod'] = df_test['id_prod'].str[:2]\n",
    "\n",
    "print('Préfixes de \\'id_prod\\' :') # Pour chaque catégorie, le préfixe unique de 'id_prod'\n",
    "for i in df_test['categ'].unique():\n",
    "    print('- catégorie', i, ':',\n",
    "        df_test[df.dropna()['categ']==i]['id_prod'].unique())"
   ]
  },
  {
   "cell_type": "markdown",
   "id": "fc689ef6",
   "metadata": {},
   "source": [
    "On peut également déterminer une valeur fixe pour les 2 variables. Pour la catégorie, on peut se fier aux préfixes des identifiants de produits : *0_*, *1_* et *2_*. Ces préfixes correspondent invariablement à la catégorie du produit concerné. On choisit donc *0* comme catégorie du produit *0_2245*."
   ]
  },
  {
   "cell_type": "code",
   "execution_count": 46,
   "id": "12867bce",
   "metadata": {},
   "outputs": [
    {
     "data": {
      "text/html": [
       "<div>\n",
       "<style scoped>\n",
       "    .dataframe tbody tr th:only-of-type {\n",
       "        vertical-align: middle;\n",
       "    }\n",
       "\n",
       "    .dataframe tbody tr th {\n",
       "        vertical-align: top;\n",
       "    }\n",
       "\n",
       "    .dataframe thead th {\n",
       "        text-align: right;\n",
       "    }\n",
       "</style>\n",
       "<table border=\"1\" class=\"dataframe\">\n",
       "  <thead>\n",
       "    <tr style=\"text-align: right;\">\n",
       "      <th></th>\n",
       "      <th>index</th>\n",
       "      <th>id_prod</th>\n",
       "      <th>date</th>\n",
       "      <th>session_id</th>\n",
       "      <th>client_id</th>\n",
       "      <th>sex</th>\n",
       "      <th>birth</th>\n",
       "      <th>price</th>\n",
       "      <th>categ</th>\n",
       "    </tr>\n",
       "  </thead>\n",
       "  <tbody>\n",
       "    <tr>\n",
       "      <th>127224</th>\n",
       "      <td>127274</td>\n",
       "      <td>0_2245</td>\n",
       "      <td>2021-11-02 17:51:41.043592</td>\n",
       "      <td>s_113801</td>\n",
       "      <td>c_326</td>\n",
       "      <td>f</td>\n",
       "      <td>1986</td>\n",
       "      <td>NaN</td>\n",
       "      <td>0.00</td>\n",
       "    </tr>\n",
       "    <tr>\n",
       "      <th>312857</th>\n",
       "      <td>312930</td>\n",
       "      <td>0_2245</td>\n",
       "      <td>2021-08-19 12:22:41.380319</td>\n",
       "      <td>s_77853</td>\n",
       "      <td>c_2613</td>\n",
       "      <td>m</td>\n",
       "      <td>1975</td>\n",
       "      <td>NaN</td>\n",
       "      <td>0.00</td>\n",
       "    </tr>\n",
       "    <tr>\n",
       "      <th>35568</th>\n",
       "      <td>35581</td>\n",
       "      <td>0_2245</td>\n",
       "      <td>2021-12-29 23:24:51.621799</td>\n",
       "      <td>s_142078</td>\n",
       "      <td>c_2189</td>\n",
       "      <td>f</td>\n",
       "      <td>1983</td>\n",
       "      <td>NaN</td>\n",
       "      <td>0.00</td>\n",
       "    </tr>\n",
       "  </tbody>\n",
       "</table>\n",
       "</div>"
      ],
      "text/plain": [
       "         index id_prod                       date session_id client_id sex  \\\n",
       "127224  127274  0_2245 2021-11-02 17:51:41.043592   s_113801     c_326   f   \n",
       "312857  312930  0_2245 2021-08-19 12:22:41.380319    s_77853    c_2613   m   \n",
       "35568    35581  0_2245 2021-12-29 23:24:51.621799   s_142078    c_2189   f   \n",
       "\n",
       "        birth  price  categ  \n",
       "127224   1986    NaN   0.00  \n",
       "312857   1975    NaN   0.00  \n",
       "35568    1983    NaN   0.00  "
      ]
     },
     "execution_count": 46,
     "metadata": {},
     "output_type": "execute_result"
    }
   ],
   "source": [
    "# remplacement des valeurs manquantes de la variable 'categ' par 0\n",
    "df['categ'].replace(np.nan, 0, inplace=True)\n",
    "produit_2245 = df[df['id_prod']=='0_2245']\n",
    "produit_2245.sample(3)"
   ]
  },
  {
   "cell_type": "code",
   "execution_count": 47,
   "id": "f22f44d9",
   "metadata": {},
   "outputs": [],
   "source": [
    "df.drop('index', axis=1, inplace=True)"
   ]
  },
  {
   "cell_type": "code",
   "execution_count": 48,
   "id": "e7b71ed1",
   "metadata": {
    "scrolled": true
   },
   "outputs": [
    {
     "data": {
      "image/png": "[encoded data removed]",
      "text/plain": [
       "<Figure size 576x360 with 2 Axes>"
      ]
     },
     "metadata": {},
     "output_type": "display_data"
    }
   ],
   "source": [
    "plt.figure(figsize=(8, 5))\n",
    "heatmap = sns.heatmap(df.corr(), mask=np.triu(np.ones_like(df.corr(), dtype=np.bool)), vmin=-1, vmax=1, annot=True, cmap='BrBG')\n",
    "heatmap.set_title('Triangle de corrélations', fontdict={'fontsize':16}, pad=24)\n",
    "plt.xticks(rotation=45)\n",
    "plt.savefig(url + 'correlation.png', dpi=300, bbox_inches='tight')\n",
    "plt.show()"
   ]
  },
  {
   "cell_type": "code",
   "execution_count": 49,
   "id": "fa80a6ef",
   "metadata": {},
   "outputs": [
    {
     "data": {
      "image/png": "[encoded data removed]",
      "text/plain": [
       "<Figure size 576x216 with 1 Axes>"
      ]
     },
     "metadata": {},
     "output_type": "display_data"
    }
   ],
   "source": [
    "# distibution et moyen des prix en fonction de la catégorie \n",
    "plt.figure(figsize=(8,3))\n",
    "sns.boxplot(data=df, y='categ', x='price', orient='h', showfliers=False, showmeans=True, palette=['#78C850', '#F08030', '#6890F0'], meanprops={\"marker\":\"s\",\"markerfacecolor\":\"black\"})\n",
    "plt.title('Distribution des prix en fonction de la  catégorie')\n",
    "plt.savefig(url + 'boxplot_price_categ.png', dpi=300, bbox_inches='tight')\n",
    "plt.show()"
   ]
  },
  {
   "cell_type": "code",
   "execution_count": 50,
   "id": "56b1e6cd",
   "metadata": {},
   "outputs": [
    {
     "name": "stdout",
     "output_type": "stream",
     "text": [
      "Catégorie 0 : \n",
      "- prix moyen : 10.65 \n",
      "- prix médian : 9.99 \n",
      "- mode : 4.99\n"
     ]
    }
   ],
   "source": [
    "print('Catégorie 0 :',\n",
    "    '\\n- prix moyen :', round(df[df['categ']==0]['price'].mean(), 2), # prix moyen\n",
    "    '\\n- prix médian :', df[df['categ']==0]['price'].median(), # prix médian\n",
    "    '\\n- mode :', df[df['categ']==0]['price'].mode().values[0]) # prix le plus fréquent"
   ]
  },
  {
   "cell_type": "markdown",
   "id": "94a32662",
   "metadata": {},
   "source": [
    "on décide de faire une imputation par la médiane pour traité ces valeur manquante"
   ]
  },
  {
   "cell_type": "code",
   "execution_count": 51,
   "id": "6eb5f026",
   "metadata": {},
   "outputs": [],
   "source": [
    "df['price'].replace(np.nan, 9.99, inplace=True)"
   ]
  },
  {
   "cell_type": "markdown",
   "id": "7614c690",
   "metadata": {},
   "source": [
    "pour enrichire notre analyse on décide d'ajouter des valeur supplémentaire "
   ]
  },
  {
   "cell_type": "code",
   "execution_count": 52,
   "id": "359775fa",
   "metadata": {},
   "outputs": [
    {
     "data": {
      "text/html": [
       "<div>\n",
       "<style scoped>\n",
       "    .dataframe tbody tr th:only-of-type {\n",
       "        vertical-align: middle;\n",
       "    }\n",
       "\n",
       "    .dataframe tbody tr th {\n",
       "        vertical-align: top;\n",
       "    }\n",
       "\n",
       "    .dataframe thead th {\n",
       "        text-align: right;\n",
       "    }\n",
       "</style>\n",
       "<table border=\"1\" class=\"dataframe\">\n",
       "  <thead>\n",
       "    <tr style=\"text-align: right;\">\n",
       "      <th></th>\n",
       "      <th>id_prod</th>\n",
       "      <th>date</th>\n",
       "      <th>session_id</th>\n",
       "      <th>client_id</th>\n",
       "      <th>sex</th>\n",
       "      <th>birth</th>\n",
       "      <th>price</th>\n",
       "      <th>categ</th>\n",
       "      <th>mois</th>\n",
       "      <th>total_ventes</th>\n",
       "      <th>ventes_mensuelles</th>\n",
       "      <th>taille_panier_moyen</th>\n",
       "      <th>panier_moyen</th>\n",
       "      <th>total_achats</th>\n",
       "    </tr>\n",
       "  </thead>\n",
       "  <tbody>\n",
       "    <tr>\n",
       "      <th>314415</th>\n",
       "      <td>0_1530</td>\n",
       "      <td>2021-06-02 12:40:29.041254</td>\n",
       "      <td>s_43056</td>\n",
       "      <td>c_6907</td>\n",
       "      <td>m</td>\n",
       "      <td>1977</td>\n",
       "      <td>3.24</td>\n",
       "      <td>0.00</td>\n",
       "      <td>6</td>\n",
       "      <td>111</td>\n",
       "      <td>10.00</td>\n",
       "      <td>2.41</td>\n",
       "      <td>12.70</td>\n",
       "      <td>1,387.09</td>\n",
       "    </tr>\n",
       "    <tr>\n",
       "      <th>198484</th>\n",
       "      <td>2_46</td>\n",
       "      <td>2021-04-11 01:42:01.408999</td>\n",
       "      <td>s_18880</td>\n",
       "      <td>c_8118</td>\n",
       "      <td>m</td>\n",
       "      <td>1984</td>\n",
       "      <td>41.31</td>\n",
       "      <td>2.00</td>\n",
       "      <td>4</td>\n",
       "      <td>106</td>\n",
       "      <td>10.00</td>\n",
       "      <td>2.30</td>\n",
       "      <td>13.89</td>\n",
       "      <td>1,557.44</td>\n",
       "    </tr>\n",
       "    <tr>\n",
       "      <th>286869</th>\n",
       "      <td>1_379</td>\n",
       "      <td>2022-02-18 16:51:01.630335</td>\n",
       "      <td>s_167177</td>\n",
       "      <td>c_562</td>\n",
       "      <td>m</td>\n",
       "      <td>1974</td>\n",
       "      <td>26.99</td>\n",
       "      <td>1.00</td>\n",
       "      <td>2</td>\n",
       "      <td>63</td>\n",
       "      <td>6.00</td>\n",
       "      <td>2.86</td>\n",
       "      <td>11.60</td>\n",
       "      <td>741.88</td>\n",
       "    </tr>\n",
       "  </tbody>\n",
       "</table>\n",
       "</div>"
      ],
      "text/plain": [
       "       id_prod                       date session_id client_id sex  birth  \\\n",
       "314415  0_1530 2021-06-02 12:40:29.041254    s_43056    c_6907   m   1977   \n",
       "198484    2_46 2021-04-11 01:42:01.408999    s_18880    c_8118   m   1984   \n",
       "286869   1_379 2022-02-18 16:51:01.630335   s_167177     c_562   m   1974   \n",
       "\n",
       "        price  categ  mois  total_ventes  ventes_mensuelles  \\\n",
       "314415   3.24   0.00     6           111              10.00   \n",
       "198484  41.31   2.00     4           106              10.00   \n",
       "286869  26.99   1.00     2            63               6.00   \n",
       "\n",
       "        taille_panier_moyen  panier_moyen  total_achats  \n",
       "314415                 2.41         12.70      1,387.09  \n",
       "198484                 2.30         13.89      1,557.44  \n",
       "286869                 2.86         11.60        741.88  "
      ]
     },
     "execution_count": 52,
     "metadata": {},
     "output_type": "execute_result"
    }
   ],
   "source": [
    "df['mois'] = pd.DatetimeIndex(df['date']).month \n",
    "\n",
    "df['date_fixe'] = df['date'].dt.date # Variable temporaire \n",
    "\n",
    "df = df.merge(\n",
    "    df.groupby('client_id').count()['date'].reset_index().rename(columns={'date': 'total_ventes'}),\n",
    "    how='left', on='client_id')\n",
    "\n",
    "df['ventes_mensuelles'] = round(df['total_ventes'] / 11)\n",
    "\n",
    "df = df.merge(\n",
    "    df.pivot_table(\n",
    "        index=['client_id', 'date_fixe'], \n",
    "        values='price', \n",
    "        aggfunc='count').reset_index().pivot_table(\n",
    "        index='client_id').reset_index().rename(\n",
    "        columns={'price': 'taille_panier_moyen'}), \n",
    "    on='client_id', how='left')\n",
    "\n",
    "df = df.merge(\n",
    "    df.pivot_table(\n",
    "        index=['client_id', 'date_fixe'], \n",
    "        values='price').reset_index().pivot_table(\n",
    "        index='client_id').reset_index().rename(\n",
    "        columns={'price': 'panier_moyen'}), \n",
    "    on='client_id', how='left').drop('date_fixe', axis=1)\n",
    "\n",
    "\n",
    "df = df.merge(\n",
    "    df.pivot_table(\n",
    "    index='client_id', values='price', \n",
    "    aggfunc='sum').reset_index().rename(\n",
    "    columns={'price': 'total_achats'}),\n",
    "    on='client_id', how='left')\n",
    "df.sample(3)"
   ]
  },
  {
   "cell_type": "code",
   "execution_count": 53,
   "id": "18a4164a",
   "metadata": {},
   "outputs": [
    {
     "data": {
      "text/html": [
       "<div>\n",
       "<style scoped>\n",
       "    .dataframe tbody tr th:only-of-type {\n",
       "        vertical-align: middle;\n",
       "    }\n",
       "\n",
       "    .dataframe tbody tr th {\n",
       "        vertical-align: top;\n",
       "    }\n",
       "\n",
       "    .dataframe thead th {\n",
       "        text-align: right;\n",
       "    }\n",
       "</style>\n",
       "<table border=\"1\" class=\"dataframe\">\n",
       "  <thead>\n",
       "    <tr style=\"text-align: right;\">\n",
       "      <th></th>\n",
       "      <th>id_prod</th>\n",
       "      <th>date</th>\n",
       "      <th>session_id</th>\n",
       "      <th>client_id</th>\n",
       "      <th>sex</th>\n",
       "      <th>birth</th>\n",
       "      <th>price</th>\n",
       "      <th>categ</th>\n",
       "      <th>mois</th>\n",
       "      <th>total_ventes</th>\n",
       "      <th>ventes_mensuelles</th>\n",
       "      <th>taille_panier_moyen</th>\n",
       "      <th>panier_moyen</th>\n",
       "      <th>total_achats</th>\n",
       "      <th>age</th>\n",
       "    </tr>\n",
       "  </thead>\n",
       "  <tbody>\n",
       "    <tr>\n",
       "      <th>91127</th>\n",
       "      <td>0_1628</td>\n",
       "      <td>2021-03-09 11:17:58.465969</td>\n",
       "      <td>s_3890</td>\n",
       "      <td>c_6872</td>\n",
       "      <td>m</td>\n",
       "      <td>1978</td>\n",
       "      <td>9.99</td>\n",
       "      <td>0.00</td>\n",
       "      <td>3</td>\n",
       "      <td>144</td>\n",
       "      <td>13.00</td>\n",
       "      <td>2.36</td>\n",
       "      <td>12.83</td>\n",
       "      <td>1,789.39</td>\n",
       "      <td>43</td>\n",
       "    </tr>\n",
       "    <tr>\n",
       "      <th>38872</th>\n",
       "      <td>0_1458</td>\n",
       "      <td>2021-12-15 08:26:52.843646</td>\n",
       "      <td>s_134647</td>\n",
       "      <td>c_5949</td>\n",
       "      <td>m</td>\n",
       "      <td>1985</td>\n",
       "      <td>6.55</td>\n",
       "      <td>0.00</td>\n",
       "      <td>12</td>\n",
       "      <td>126</td>\n",
       "      <td>11.00</td>\n",
       "      <td>2.80</td>\n",
       "      <td>13.32</td>\n",
       "      <td>1,562.13</td>\n",
       "      <td>36</td>\n",
       "    </tr>\n",
       "    <tr>\n",
       "      <th>72052</th>\n",
       "      <td>1_11</td>\n",
       "      <td>2021-12-18 13:59:17.198778</td>\n",
       "      <td>s_136263</td>\n",
       "      <td>c_7178</td>\n",
       "      <td>m</td>\n",
       "      <td>1959</td>\n",
       "      <td>39.99</td>\n",
       "      <td>1.00</td>\n",
       "      <td>12</td>\n",
       "      <td>81</td>\n",
       "      <td>7.00</td>\n",
       "      <td>1.47</td>\n",
       "      <td>17.34</td>\n",
       "      <td>1,412.19</td>\n",
       "      <td>62</td>\n",
       "    </tr>\n",
       "  </tbody>\n",
       "</table>\n",
       "</div>"
      ],
      "text/plain": [
       "      id_prod                       date session_id client_id sex  birth  \\\n",
       "91127  0_1628 2021-03-09 11:17:58.465969     s_3890    c_6872   m   1978   \n",
       "38872  0_1458 2021-12-15 08:26:52.843646   s_134647    c_5949   m   1985   \n",
       "72052    1_11 2021-12-18 13:59:17.198778   s_136263    c_7178   m   1959   \n",
       "\n",
       "       price  categ  mois  total_ventes  ventes_mensuelles  \\\n",
       "91127   9.99   0.00     3           144              13.00   \n",
       "38872   6.55   0.00    12           126              11.00   \n",
       "72052  39.99   1.00    12            81               7.00   \n",
       "\n",
       "       taille_panier_moyen  panier_moyen  total_achats  age  \n",
       "91127                 2.36         12.83      1,789.39   43  \n",
       "38872                 2.80         13.32      1,562.13   36  \n",
       "72052                 1.47         17.34      1,412.19   62  "
      ]
     },
     "execution_count": 53,
     "metadata": {},
     "output_type": "execute_result"
    }
   ],
   "source": [
    "#age des client \n",
    "year = datetime.now().year\n",
    "df['age']= year - df['birth']\n",
    "df.sample(3)"
   ]
  },
  {
   "cell_type": "code",
   "execution_count": 54,
   "id": "25553792",
   "metadata": {},
   "outputs": [],
   "source": [
    "#classification par tranche d'age \n",
    "\"\"\"\n",
    " le découpage peut se faire par tranche d'âge :\n",
    " 0-3 ans, 4-8 ans, 9-12 ans, 13-17 ans, 18-24 ans, 25-34 ans, 35-44 ans, 45-54 ans, 55-64 ans, 65-74 ans,\n",
    " 75-84 ans et les 85 ans et plus.\n",
    " ou bien plus simplement faire des tranche d'age par décénie:\n",
    "18-30,\n",
    "30-40,\n",
    "40-50,\n",
    "50-60,\n",
    "70-80,\n",
    "80+\n",
    "\"\"\"\n",
    "df['tranche_age'] = '18-30'\n",
    "df['tranche_age'].loc[df[df['age']>=30].index] = '30-40'\n",
    "df['tranche_age'].loc[df[df['age']>=40].index] = '40-50'\n",
    "df['tranche_age'].loc[df[df['age']>=50].index] = '50-60'\n",
    "df['tranche_age'].loc[df[df['age']>=60].index] = '60-70'\n",
    "df['tranche_age'].loc[df[df['age']>=70].index] = '70-80'\n",
    "df['tranche_age'].loc[df[df['age']>=80].index] = '80et+'"
   ]
  },
  {
   "cell_type": "code",
   "execution_count": 55,
   "id": "1d9e9845",
   "metadata": {},
   "outputs": [
    {
     "data": {
      "text/html": [
       "<div>\n",
       "<style scoped>\n",
       "    .dataframe tbody tr th:only-of-type {\n",
       "        vertical-align: middle;\n",
       "    }\n",
       "\n",
       "    .dataframe tbody tr th {\n",
       "        vertical-align: top;\n",
       "    }\n",
       "\n",
       "    .dataframe thead th {\n",
       "        text-align: right;\n",
       "    }\n",
       "</style>\n",
       "<table border=\"1\" class=\"dataframe\">\n",
       "  <thead>\n",
       "    <tr style=\"text-align: right;\">\n",
       "      <th></th>\n",
       "      <th>id_prod</th>\n",
       "      <th>date</th>\n",
       "      <th>session_id</th>\n",
       "      <th>client_id</th>\n",
       "      <th>sex</th>\n",
       "      <th>birth</th>\n",
       "      <th>price</th>\n",
       "      <th>categ</th>\n",
       "      <th>mois</th>\n",
       "      <th>total_ventes</th>\n",
       "      <th>ventes_mensuelles</th>\n",
       "      <th>taille_panier_moyen</th>\n",
       "      <th>panier_moyen</th>\n",
       "      <th>total_achats</th>\n",
       "      <th>age</th>\n",
       "      <th>tranche_age</th>\n",
       "    </tr>\n",
       "  </thead>\n",
       "  <tbody>\n",
       "    <tr>\n",
       "      <th>134836</th>\n",
       "      <td>1_325</td>\n",
       "      <td>2022-01-14 08:06:25.735068</td>\n",
       "      <td>s_149601</td>\n",
       "      <td>c_613</td>\n",
       "      <td>m</td>\n",
       "      <td>1969</td>\n",
       "      <td>27.99</td>\n",
       "      <td>1.00</td>\n",
       "      <td>1</td>\n",
       "      <td>58</td>\n",
       "      <td>5.00</td>\n",
       "      <td>1.38</td>\n",
       "      <td>15.50</td>\n",
       "      <td>960.30</td>\n",
       "      <td>52</td>\n",
       "      <td>50-60</td>\n",
       "    </tr>\n",
       "    <tr>\n",
       "      <th>67423</th>\n",
       "      <td>0_1892</td>\n",
       "      <td>2021-12-11 06:55:36.733697</td>\n",
       "      <td>s_132646</td>\n",
       "      <td>c_4300</td>\n",
       "      <td>f</td>\n",
       "      <td>1986</td>\n",
       "      <td>12.56</td>\n",
       "      <td>0.00</td>\n",
       "      <td>12</td>\n",
       "      <td>116</td>\n",
       "      <td>11.00</td>\n",
       "      <td>2.47</td>\n",
       "      <td>11.86</td>\n",
       "      <td>1,406.12</td>\n",
       "      <td>35</td>\n",
       "      <td>30-40</td>\n",
       "    </tr>\n",
       "    <tr>\n",
       "      <th>148490</th>\n",
       "      <td>1_325</td>\n",
       "      <td>2021-08-15 00:07:07.523306</td>\n",
       "      <td>s_75822</td>\n",
       "      <td>c_2691</td>\n",
       "      <td>f</td>\n",
       "      <td>1988</td>\n",
       "      <td>27.99</td>\n",
       "      <td>1.00</td>\n",
       "      <td>8</td>\n",
       "      <td>51</td>\n",
       "      <td>5.00</td>\n",
       "      <td>2.43</td>\n",
       "      <td>16.20</td>\n",
       "      <td>771.34</td>\n",
       "      <td>33</td>\n",
       "      <td>30-40</td>\n",
       "    </tr>\n",
       "    <tr>\n",
       "      <th>294358</th>\n",
       "      <td>1_698</td>\n",
       "      <td>2021-07-14 14:03:16.322750</td>\n",
       "      <td>s_62210</td>\n",
       "      <td>c_4133</td>\n",
       "      <td>f</td>\n",
       "      <td>1959</td>\n",
       "      <td>18.30</td>\n",
       "      <td>1.00</td>\n",
       "      <td>7</td>\n",
       "      <td>23</td>\n",
       "      <td>2.00</td>\n",
       "      <td>1.77</td>\n",
       "      <td>15.37</td>\n",
       "      <td>354.38</td>\n",
       "      <td>62</td>\n",
       "      <td>60-70</td>\n",
       "    </tr>\n",
       "  </tbody>\n",
       "</table>\n",
       "</div>"
      ],
      "text/plain": [
       "       id_prod                       date session_id client_id sex  birth  \\\n",
       "134836   1_325 2022-01-14 08:06:25.735068   s_149601     c_613   m   1969   \n",
       "67423   0_1892 2021-12-11 06:55:36.733697   s_132646    c_4300   f   1986   \n",
       "148490   1_325 2021-08-15 00:07:07.523306    s_75822    c_2691   f   1988   \n",
       "294358   1_698 2021-07-14 14:03:16.322750    s_62210    c_4133   f   1959   \n",
       "\n",
       "        price  categ  mois  total_ventes  ventes_mensuelles  \\\n",
       "134836  27.99   1.00     1            58               5.00   \n",
       "67423   12.56   0.00    12           116              11.00   \n",
       "148490  27.99   1.00     8            51               5.00   \n",
       "294358  18.30   1.00     7            23               2.00   \n",
       "\n",
       "        taille_panier_moyen  panier_moyen  total_achats  age tranche_age  \n",
       "134836                 1.38         15.50        960.30   52       50-60  \n",
       "67423                  2.47         11.86      1,406.12   35       30-40  \n",
       "148490                 2.43         16.20        771.34   33       30-40  \n",
       "294358                 1.77         15.37        354.38   62       60-70  "
      ]
     },
     "execution_count": 55,
     "metadata": {},
     "output_type": "execute_result"
    }
   ],
   "source": [
    "df.sample(4)"
   ]
  },
  {
   "cell_type": "markdown",
   "id": "9c21a71f",
   "metadata": {},
   "source": [
    "### Analyse Des Données "
   ]
  },
  {
   "cell_type": "code",
   "execution_count": 56,
   "id": "726526c3",
   "metadata": {
    "scrolled": true
   },
   "outputs": [
    {
     "data": {
      "text/html": [
       "<div>\n",
       "<style scoped>\n",
       "    .dataframe tbody tr th:only-of-type {\n",
       "        vertical-align: middle;\n",
       "    }\n",
       "\n",
       "    .dataframe tbody tr th {\n",
       "        vertical-align: top;\n",
       "    }\n",
       "\n",
       "    .dataframe thead th {\n",
       "        text-align: right;\n",
       "    }\n",
       "</style>\n",
       "<table border=\"1\" class=\"dataframe\">\n",
       "  <thead>\n",
       "    <tr style=\"text-align: right;\">\n",
       "      <th></th>\n",
       "      <th>client_id</th>\n",
       "      <th>panier_moyen</th>\n",
       "      <th>taille_panier_moyen</th>\n",
       "      <th>total_achats</th>\n",
       "      <th>total_ventes</th>\n",
       "      <th>ventes_mensuelles</th>\n",
       "    </tr>\n",
       "  </thead>\n",
       "  <tbody>\n",
       "    <tr>\n",
       "      <th>0</th>\n",
       "      <td>c_1609</td>\n",
       "      <td>12.72</td>\n",
       "      <td>35.41</td>\n",
       "      <td>151,018.91</td>\n",
       "      <td>11861</td>\n",
       "      <td>1,078.00</td>\n",
       "    </tr>\n",
       "    <tr>\n",
       "      <th>1</th>\n",
       "      <td>c_4958</td>\n",
       "      <td>55.31</td>\n",
       "      <td>7.42</td>\n",
       "      <td>137,456.83</td>\n",
       "      <td>2463</td>\n",
       "      <td>224.00</td>\n",
       "    </tr>\n",
       "    <tr>\n",
       "      <th>2</th>\n",
       "      <td>c_6714</td>\n",
       "      <td>16.66</td>\n",
       "      <td>12.98</td>\n",
       "      <td>69,493.36</td>\n",
       "      <td>4193</td>\n",
       "      <td>381.00</td>\n",
       "    </tr>\n",
       "    <tr>\n",
       "      <th>3</th>\n",
       "      <td>c_3454</td>\n",
       "      <td>16.62</td>\n",
       "      <td>9.39</td>\n",
       "      <td>52,845.11</td>\n",
       "      <td>3145</td>\n",
       "      <td>286.00</td>\n",
       "    </tr>\n",
       "    <tr>\n",
       "      <th>4</th>\n",
       "      <td>c_8026</td>\n",
       "      <td>13.47</td>\n",
       "      <td>2.88</td>\n",
       "      <td>2,434.49</td>\n",
       "      <td>184</td>\n",
       "      <td>17.00</td>\n",
       "    </tr>\n",
       "    <tr>\n",
       "      <th>5</th>\n",
       "      <td>c_7421</td>\n",
       "      <td>13.58</td>\n",
       "      <td>2.83</td>\n",
       "      <td>2,406.17</td>\n",
       "      <td>178</td>\n",
       "      <td>16.00</td>\n",
       "    </tr>\n",
       "    <tr>\n",
       "      <th>6</th>\n",
       "      <td>c_7319</td>\n",
       "      <td>13.57</td>\n",
       "      <td>2.75</td>\n",
       "      <td>2,366.20</td>\n",
       "      <td>168</td>\n",
       "      <td>15.00</td>\n",
       "    </tr>\n",
       "    <tr>\n",
       "      <th>7</th>\n",
       "      <td>c_3263</td>\n",
       "      <td>13.82</td>\n",
       "      <td>3.05</td>\n",
       "      <td>2,346.34</td>\n",
       "      <td>177</td>\n",
       "      <td>16.00</td>\n",
       "    </tr>\n",
       "    <tr>\n",
       "      <th>8</th>\n",
       "      <td>c_8392</td>\n",
       "      <td>13.76</td>\n",
       "      <td>2.76</td>\n",
       "      <td>2,332.08</td>\n",
       "      <td>171</td>\n",
       "      <td>16.00</td>\n",
       "    </tr>\n",
       "    <tr>\n",
       "      <th>9</th>\n",
       "      <td>c_2899</td>\n",
       "      <td>53.69</td>\n",
       "      <td>1.62</td>\n",
       "      <td>2,313.54</td>\n",
       "      <td>47</td>\n",
       "      <td>4.00</td>\n",
       "    </tr>\n",
       "  </tbody>\n",
       "</table>\n",
       "</div>"
      ],
      "text/plain": [
       "  client_id  panier_moyen  taille_panier_moyen  total_achats  total_ventes  \\\n",
       "0    c_1609         12.72                35.41    151,018.91         11861   \n",
       "1    c_4958         55.31                 7.42    137,456.83          2463   \n",
       "2    c_6714         16.66                12.98     69,493.36          4193   \n",
       "3    c_3454         16.62                 9.39     52,845.11          3145   \n",
       "4    c_8026         13.47                 2.88      2,434.49           184   \n",
       "5    c_7421         13.58                 2.83      2,406.17           178   \n",
       "6    c_7319         13.57                 2.75      2,366.20           168   \n",
       "7    c_3263         13.82                 3.05      2,346.34           177   \n",
       "8    c_8392         13.76                 2.76      2,332.08           171   \n",
       "9    c_2899         53.69                 1.62      2,313.54            47   \n",
       "\n",
       "   ventes_mensuelles  \n",
       "0           1,078.00  \n",
       "1             224.00  \n",
       "2             381.00  \n",
       "3             286.00  \n",
       "4              17.00  \n",
       "5              16.00  \n",
       "6              15.00  \n",
       "7              16.00  \n",
       "8              16.00  \n",
       "9               4.00  "
      ]
     },
     "execution_count": 56,
     "metadata": {},
     "output_type": "execute_result"
    }
   ],
   "source": [
    "ca = df.pivot_table(\n",
    "    index='client_id', values=[\n",
    "        'total_achats','ventes_mensuelles','taille_panier_moyen','total_ventes','panier_moyen']\n",
    "    ).sort_values(by='total_achats', ascending=False).reset_index()\n",
    "\n",
    "ca.head(10)"
   ]
  },
  {
   "cell_type": "code",
   "execution_count": 57,
   "id": "7a909eec",
   "metadata": {},
   "outputs": [
    {
     "data": {
      "text/html": [
       "<div>\n",
       "<style scoped>\n",
       "    .dataframe tbody tr th:only-of-type {\n",
       "        vertical-align: middle;\n",
       "    }\n",
       "\n",
       "    .dataframe tbody tr th {\n",
       "        vertical-align: top;\n",
       "    }\n",
       "\n",
       "    .dataframe thead th {\n",
       "        text-align: right;\n",
       "    }\n",
       "</style>\n",
       "<table border=\"1\" class=\"dataframe\">\n",
       "  <thead>\n",
       "    <tr style=\"text-align: right;\">\n",
       "      <th></th>\n",
       "      <th>id_prod</th>\n",
       "      <th>date</th>\n",
       "      <th>session_id</th>\n",
       "      <th>client_id</th>\n",
       "      <th>sex</th>\n",
       "      <th>birth</th>\n",
       "      <th>price</th>\n",
       "      <th>categ</th>\n",
       "      <th>mois</th>\n",
       "      <th>total_ventes</th>\n",
       "      <th>ventes_mensuelles</th>\n",
       "      <th>taille_panier_moyen</th>\n",
       "      <th>panier_moyen</th>\n",
       "      <th>total_achats</th>\n",
       "      <th>age</th>\n",
       "      <th>tranche_age</th>\n",
       "      <th>type_client</th>\n",
       "    </tr>\n",
       "  </thead>\n",
       "  <tbody>\n",
       "    <tr>\n",
       "      <th>152862</th>\n",
       "      <td>0_1059</td>\n",
       "      <td>2021-06-10 08:49:13.941530</td>\n",
       "      <td>s_46637</td>\n",
       "      <td>c_1609</td>\n",
       "      <td>m</td>\n",
       "      <td>1980</td>\n",
       "      <td>18.99</td>\n",
       "      <td>0.00</td>\n",
       "      <td>6</td>\n",
       "      <td>11861</td>\n",
       "      <td>1,078.00</td>\n",
       "      <td>35.41</td>\n",
       "      <td>12.72</td>\n",
       "      <td>151,018.91</td>\n",
       "      <td>41</td>\n",
       "      <td>40-50</td>\n",
       "      <td>pro</td>\n",
       "    </tr>\n",
       "    <tr>\n",
       "      <th>113500</th>\n",
       "      <td>0_1628</td>\n",
       "      <td>2021-04-19 02:14:07.060898</td>\n",
       "      <td>s_22560</td>\n",
       "      <td>c_700</td>\n",
       "      <td>f</td>\n",
       "      <td>1956</td>\n",
       "      <td>9.99</td>\n",
       "      <td>0.00</td>\n",
       "      <td>4</td>\n",
       "      <td>28</td>\n",
       "      <td>3.00</td>\n",
       "      <td>1.56</td>\n",
       "      <td>19.74</td>\n",
       "      <td>644.32</td>\n",
       "      <td>65</td>\n",
       "      <td>60-70</td>\n",
       "      <td>particulier</td>\n",
       "    </tr>\n",
       "    <tr>\n",
       "      <th>152734</th>\n",
       "      <td>0_1598</td>\n",
       "      <td>2022-01-16 07:27:56.552802</td>\n",
       "      <td>s_150543</td>\n",
       "      <td>c_4970</td>\n",
       "      <td>m</td>\n",
       "      <td>1978</td>\n",
       "      <td>10.98</td>\n",
       "      <td>0.00</td>\n",
       "      <td>1</td>\n",
       "      <td>101</td>\n",
       "      <td>9.00</td>\n",
       "      <td>2.46</td>\n",
       "      <td>12.56</td>\n",
       "      <td>1,253.52</td>\n",
       "      <td>43</td>\n",
       "      <td>40-50</td>\n",
       "      <td>particulier</td>\n",
       "    </tr>\n",
       "  </tbody>\n",
       "</table>\n",
       "</div>"
      ],
      "text/plain": [
       "       id_prod                       date session_id client_id sex  birth  \\\n",
       "152862  0_1059 2021-06-10 08:49:13.941530    s_46637    c_1609   m   1980   \n",
       "113500  0_1628 2021-04-19 02:14:07.060898    s_22560     c_700   f   1956   \n",
       "152734  0_1598 2022-01-16 07:27:56.552802   s_150543    c_4970   m   1978   \n",
       "\n",
       "        price  categ  mois  total_ventes  ventes_mensuelles  \\\n",
       "152862  18.99   0.00     6         11861           1,078.00   \n",
       "113500   9.99   0.00     4            28               3.00   \n",
       "152734  10.98   0.00     1           101               9.00   \n",
       "\n",
       "        taille_panier_moyen  panier_moyen  total_achats  age tranche_age  \\\n",
       "152862                35.41         12.72    151,018.91   41       40-50   \n",
       "113500                 1.56         19.74        644.32   65       60-70   \n",
       "152734                 2.46         12.56      1,253.52   43       40-50   \n",
       "\n",
       "        type_client  \n",
       "152862          pro  \n",
       "113500  particulier  \n",
       "152734  particulier  "
      ]
     },
     "execution_count": 57,
     "metadata": {},
     "output_type": "execute_result"
    }
   ],
   "source": [
    "# Création d'une variable 'Type' de client (2 modalités : particulier ou professionnel)\n",
    "df['type_client'] = 'particulier'\n",
    "df['type_client'].loc[df[df['client_id'].isin(ca.head(4)['client_id'])].index] = 'pro'\n",
    "\n",
    "\n",
    "pro = df[df['type_client']=='pro']\n",
    "part = df[df['type_client']=='particulier']\n",
    "\n",
    "df.sample(3)"
   ]
  },
  {
   "cell_type": "code",
   "execution_count": 58,
   "id": "d00e7b24",
   "metadata": {},
   "outputs": [
    {
     "name": "stdout",
     "output_type": "stream",
     "text": [
      "les clients pro représente  7.48 % du chiffre d' affaires annuel\n"
     ]
    }
   ],
   "source": [
    "print('les clients pro représente ', round(pro['price'].sum()/df['price'].sum()*100, 2), '% du chiffre d\\' affaires annuel')"
   ]
  },
  {
   "cell_type": "code",
   "execution_count": 59,
   "id": "3206a84a",
   "metadata": {},
   "outputs": [
    {
     "data": {
      "image/png": "[encoded data removed]",
      "text/plain": [
       "<Figure size 360x360 with 1 Axes>"
      ]
     },
     "metadata": {},
     "output_type": "display_data"
    }
   ],
   "source": [
    "plt.figure(figsize=(5,5))\n",
    "df['type_client'].value_counts(normalize=True).plot(kind='pie',legend=True,autopct='%1.1f%%', colors=['royalblue', 'limegreen'])\n",
    "plt.title('Volume des transaction par rapport au type de client')\n",
    "plt.savefig(url + 'pieplot_volume_transac_client-type.png', dpi=300, bbox_inches='tight')\n",
    "plt.show()"
   ]
  },
  {
   "cell_type": "code",
   "execution_count": 60,
   "id": "491ae4c7",
   "metadata": {},
   "outputs": [
    {
     "name": "stdout",
     "output_type": "stream",
     "text": [
      "Incide de Gini : 0.44006332817649363\n"
     ]
    },
    {
     "data": {
      "image/png": "[encoded data removed]",
      "text/plain": [
       "<Figure size 576x360 with 1 Axes>"
      ]
     },
     "metadata": {},
     "output_type": "display_data"
    }
   ],
   "source": [
    "lorenz(ca['total_achats'], 'Inégalités du C.A entre tous les clients')"
   ]
  },
  {
   "cell_type": "code",
   "execution_count": 61,
   "id": "5ec49232",
   "metadata": {},
   "outputs": [
    {
     "name": "stdout",
     "output_type": "stream",
     "text": [
      "Incide de Gini : 0.3954957023823287\n"
     ]
    },
    {
     "data": {
      "image/png": "[encoded data removed]",
      "text/plain": [
       "<Figure size 576x360 with 1 Axes>"
      ]
     },
     "metadata": {},
     "output_type": "display_data"
    }
   ],
   "source": [
    "lorenz(part.pivot_table(index='client_id')['total_achats'], 'Inégalités des C.A entre tout les client particuliers ')"
   ]
  },
  {
   "cell_type": "code",
   "execution_count": 62,
   "id": "b7120683",
   "metadata": {},
   "outputs": [
    {
     "data": {
      "image/png": "[encoded data removed]",
      "text/plain": [
       "<Figure size 576x360 with 1 Axes>"
      ]
     },
     "metadata": {},
     "output_type": "display_data"
    }
   ],
   "source": [
    "sns.countplot(data=pro, x='client_id', hue='categ')\n",
    "plt.title('Volume d\\'achats des clients professionnels, par catégorie')\n",
    "plt.savefig(url + 'volume_client_pro.png', dpi=300, bbox_inches='tight')\n",
    "plt.show()"
   ]
  },
  {
   "cell_type": "markdown",
   "id": "58b8e40a",
   "metadata": {},
   "source": [
    "### Analyse client pro "
   ]
  },
  {
   "cell_type": "code",
   "execution_count": 63,
   "id": "ca76d7d6",
   "metadata": {},
   "outputs": [
    {
     "data": {
      "image/png": "[encoded data removed]",
      "text/plain": [
       "<Figure size 576x360 with 1 Axes>"
      ]
     },
     "metadata": {},
     "output_type": "display_data"
    }
   ],
   "source": [
    "plt.figure(figsize=(8,5))\n",
    "sns.boxplot(data=pro, y='price', x='client_id', showfliers=False)\n",
    "plt.title('Dstribution des prix d\\'achat des professionnels, par catégorie')\n",
    "plt.savefig(url + 'boxplot_price_categ_pro.png', dpi=300, bbox_inches='tight')\n",
    "plt.show()"
   ]
  },
  {
   "cell_type": "code",
   "execution_count": 64,
   "id": "9895ceb5",
   "metadata": {},
   "outputs": [
    {
     "name": "stdout",
     "output_type": "stream",
     "text": [
      "Client c_1609\n"
     ]
    },
    {
     "data": {
      "image/png": "[encoded data removed]",
      "text/plain": [
       "<Figure size 576x360 with 1 Axes>"
      ]
     },
     "metadata": {},
     "output_type": "display_data"
    },
    {
     "name": "stdout",
     "output_type": "stream",
     "text": [
      "Client c_6714\n"
     ]
    },
    {
     "data": {
      "image/png": "[encoded data removed]",
      "text/plain": [
       "<Figure size 576x360 with 1 Axes>"
      ]
     },
     "metadata": {},
     "output_type": "display_data"
    },
    {
     "name": "stdout",
     "output_type": "stream",
     "text": [
      "Client c_3454\n"
     ]
    },
    {
     "data": {
      "image/png": "[encoded data removed]",
      "text/plain": [
       "<Figure size 576x360 with 1 Axes>"
      ]
     },
     "metadata": {},
     "output_type": "display_data"
    },
    {
     "name": "stdout",
     "output_type": "stream",
     "text": [
      "Client c_4958\n"
     ]
    },
    {
     "data": {
      "image/png": "[encoded data removed]",
      "text/plain": [
       "<Figure size 576x360 with 1 Axes>"
      ]
     },
     "metadata": {},
     "output_type": "display_data"
    }
   ],
   "source": [
    "for i in pro['client_id'].unique():\n",
    "    print('Client', i)\n",
    "    plt.figure(figsize=(8,5))\n",
    "    sns.histplot(data=pro[pro['client_id']==i], x='date', hue='categ', binwidth=7)\n",
    "    plt.show()"
   ]
  },
  {
   "cell_type": "markdown",
   "id": "c21bfd1f",
   "metadata": {},
   "source": [
    "### Analyse client particulier "
   ]
  },
  {
   "cell_type": "code",
   "execution_count": 65,
   "id": "69774744",
   "metadata": {},
   "outputs": [
    {
     "data": {
      "image/png": "[encoded data removed]",
      "text/plain": [
       "<Figure size 576x360 with 2 Axes>"
      ]
     },
     "metadata": {},
     "output_type": "display_data"
    }
   ],
   "source": [
    "fig, axes = plt.subplots(1, 2)\n",
    "fig.suptitle('Pyramide des âges en fonction du sexe')\n",
    "\n",
    "sns.histplot(ax=axes[0], y=part[part['sex']=='m']['age'], bins=12)\n",
    "axes[0].invert_xaxis()\n",
    "axes[0].set_title('Hommes')\n",
    "\n",
    "sns.histplot(ax=axes[1], y=part[part['sex']=='f']['age'], bins=12)\n",
    "axes[1].set_yticklabels([])\n",
    "axes[1].set_ylabel('')\n",
    "axes[1].set_title('Femmes')\n",
    "\n",
    "plt.subplots_adjust(wspace=0, hspace=0)\n",
    "plt.savefig(url + 'pyramide_age_sexe.png', dpi=300, bbox_inches='tight')\n",
    "plt.show()"
   ]
  },
  {
   "cell_type": "markdown",
   "id": "5aaec75c",
   "metadata": {},
   "source": [
    "#### Remarque : \n",
    "    la pyramide des âges ne montre aucune difference entre les homme\n",
    "    et les femme \n",
    "    la pérodicité des vente est quasiment la même pour les deux sex "
   ]
  },
  {
   "cell_type": "code",
   "execution_count": 66,
   "id": "b224f6f2",
   "metadata": {},
   "outputs": [
    {
     "data": {
      "image/png": "[encoded data removed]",
      "text/plain": [
       "<Figure size 576x360 with 1 Axes>"
      ]
     },
     "metadata": {},
     "output_type": "display_data"
    }
   ],
   "source": [
    "plt.figure(figsize=(8,5))\n",
    "sns.histplot(data=part, x='date', hue='sex', binwidth=7)\n",
    "plt.title('Volume des ventes en fonction du sexe et de la date d\\'achat')\n",
    "plt.savefig(url + 'volume_vente_sexe_date.png', dpi=300, bbox_inches='tight')\n",
    "plt.show()"
   ]
  },
  {
   "cell_type": "markdown",
   "id": "f6959579",
   "metadata": {},
   "source": [
    "### Remarque :\n",
    "    le volume des ventes est légèrement plus élevé chez les femme "
   ]
  },
  {
   "cell_type": "code",
   "execution_count": 67,
   "id": "c32cb8b9",
   "metadata": {},
   "outputs": [
    {
     "data": {
      "image/png": "[encoded data removed]",
      "text/plain": [
       "<Figure size 414.975x360 with 1 Axes>"
      ]
     },
     "metadata": {},
     "output_type": "display_data"
    }
   ],
   "source": [
    "sns.displot(data=part, x='sex', hue='categ')\n",
    "plt.title('Effectifs des ventes des particuler en fonction du sexe et de la catégorie')\n",
    "plt.savefig(url + 'displot_sexe_categ.png', dpi=300, bbox_inches='tight')\n",
    "plt.show()"
   ]
  },
  {
   "cell_type": "code",
   "execution_count": 68,
   "id": "b46a16f8",
   "metadata": {},
   "outputs": [
    {
     "data": {
      "image/png": "[encoded data removed]",
      "text/plain": [
       "<Figure size 576x216 with 1 Axes>"
      ]
     },
     "metadata": {},
     "output_type": "display_data"
    }
   ],
   "source": [
    "plt.figure(figsize=(8,3))\n",
    "sns.violinplot(data=part, x='price', y='sex', showfliers=False, showmeans=True)\n",
    "plt.xlim([0,35])\n",
    "plt.title('Distribution des prix en fonction du  sexe')\n",
    "plt.savefig(url + 'violinplot_price_sexe.png', dpi=300, bbox_inches='tight')\n",
    "plt.show()"
   ]
  },
  {
   "cell_type": "code",
   "execution_count": 69,
   "id": "2a49683b",
   "metadata": {},
   "outputs": [
    {
     "data": {
      "text/html": [
       "<div>\n",
       "<style scoped>\n",
       "    .dataframe tbody tr th:only-of-type {\n",
       "        vertical-align: middle;\n",
       "    }\n",
       "\n",
       "    .dataframe tbody tr th {\n",
       "        vertical-align: top;\n",
       "    }\n",
       "\n",
       "    .dataframe thead th {\n",
       "        text-align: right;\n",
       "    }\n",
       "</style>\n",
       "<table border=\"1\" class=\"dataframe\">\n",
       "  <thead>\n",
       "    <tr style=\"text-align: right;\">\n",
       "      <th></th>\n",
       "      <th>id_prod</th>\n",
       "      <th>date</th>\n",
       "      <th>session_id</th>\n",
       "      <th>client_id</th>\n",
       "      <th>sex</th>\n",
       "      <th>birth</th>\n",
       "      <th>price</th>\n",
       "      <th>categ</th>\n",
       "      <th>mois</th>\n",
       "      <th>total_ventes</th>\n",
       "      <th>ventes_mensuelles</th>\n",
       "      <th>taille_panier_moyen</th>\n",
       "      <th>panier_moyen</th>\n",
       "      <th>total_achats</th>\n",
       "      <th>age</th>\n",
       "      <th>tranche_age</th>\n",
       "      <th>type_client</th>\n",
       "      <th>sex_code</th>\n",
       "    </tr>\n",
       "  </thead>\n",
       "  <tbody>\n",
       "    <tr>\n",
       "      <th>273390</th>\n",
       "      <td>1_435</td>\n",
       "      <td>2021-05-09 01:17:32.155161</td>\n",
       "      <td>s_31906</td>\n",
       "      <td>c_2563</td>\n",
       "      <td>f</td>\n",
       "      <td>1975</td>\n",
       "      <td>11.99</td>\n",
       "      <td>1.00</td>\n",
       "      <td>5</td>\n",
       "      <td>67</td>\n",
       "      <td>6.00</td>\n",
       "      <td>2.91</td>\n",
       "      <td>14.52</td>\n",
       "      <td>965.12</td>\n",
       "      <td>46</td>\n",
       "      <td>40-50</td>\n",
       "      <td>particulier</td>\n",
       "      <td>0</td>\n",
       "    </tr>\n",
       "    <tr>\n",
       "      <th>299049</th>\n",
       "      <td>0_1275</td>\n",
       "      <td>2021-04-22 19:42:11.101095</td>\n",
       "      <td>s_24265</td>\n",
       "      <td>c_7499</td>\n",
       "      <td>f</td>\n",
       "      <td>1977</td>\n",
       "      <td>3.99</td>\n",
       "      <td>0.00</td>\n",
       "      <td>4</td>\n",
       "      <td>145</td>\n",
       "      <td>13.00</td>\n",
       "      <td>2.42</td>\n",
       "      <td>12.37</td>\n",
       "      <td>1,741.45</td>\n",
       "      <td>44</td>\n",
       "      <td>40-50</td>\n",
       "      <td>particulier</td>\n",
       "      <td>0</td>\n",
       "    </tr>\n",
       "    <tr>\n",
       "      <th>184745</th>\n",
       "      <td>1_459</td>\n",
       "      <td>2021-11-05 10:46:59.308616</td>\n",
       "      <td>s_115072</td>\n",
       "      <td>c_7603</td>\n",
       "      <td>m</td>\n",
       "      <td>1953</td>\n",
       "      <td>15.99</td>\n",
       "      <td>1.00</td>\n",
       "      <td>11</td>\n",
       "      <td>41</td>\n",
       "      <td>4.00</td>\n",
       "      <td>2.05</td>\n",
       "      <td>17.49</td>\n",
       "      <td>684.09</td>\n",
       "      <td>68</td>\n",
       "      <td>60-70</td>\n",
       "      <td>particulier</td>\n",
       "      <td>1</td>\n",
       "    </tr>\n",
       "  </tbody>\n",
       "</table>\n",
       "</div>"
      ],
      "text/plain": [
       "       id_prod                       date session_id client_id sex  birth  \\\n",
       "273390   1_435 2021-05-09 01:17:32.155161    s_31906    c_2563   f   1975   \n",
       "299049  0_1275 2021-04-22 19:42:11.101095    s_24265    c_7499   f   1977   \n",
       "184745   1_459 2021-11-05 10:46:59.308616   s_115072    c_7603   m   1953   \n",
       "\n",
       "        price  categ  mois  total_ventes  ventes_mensuelles  \\\n",
       "273390  11.99   1.00     5            67               6.00   \n",
       "299049   3.99   0.00     4           145              13.00   \n",
       "184745  15.99   1.00    11            41               4.00   \n",
       "\n",
       "        taille_panier_moyen  panier_moyen  total_achats  age tranche_age  \\\n",
       "273390                 2.91         14.52        965.12   46       40-50   \n",
       "299049                 2.42         12.37      1,741.45   44       40-50   \n",
       "184745                 2.05         17.49        684.09   68       60-70   \n",
       "\n",
       "        type_client  sex_code  \n",
       "273390  particulier         0  \n",
       "299049  particulier         0  \n",
       "184745  particulier         1  "
      ]
     },
     "execution_count": 69,
     "metadata": {},
     "output_type": "execute_result"
    }
   ],
   "source": [
    "part = pd.concat([part,\n",
    "    pd.get_dummies(part['sex'], drop_first=True).rename(columns={'m': 'sex_code'})],\n",
    "    axis=1)\n",
    "part.sample(3)"
   ]
  },
  {
   "cell_type": "code",
   "execution_count": 70,
   "id": "59d8332f",
   "metadata": {},
   "outputs": [
    {
     "data": {
      "image/png": "[encoded data removed]",
      "text/plain": [
       "<Figure size 1152x432 with 2 Axes>"
      ]
     },
     "metadata": {},
     "output_type": "display_data"
    }
   ],
   "source": [
    "plt.figure(figsize=(16,6))\n",
    "heatmap = sns.heatmap(\n",
    "    part.corr(),\n",
    "    mask=np.triu(np.ones_like(part.corr(), dtype=np.bool)),\n",
    "    vmin=-1, vmax=1, annot=True, cmap='BrBG')\n",
    "heatmap.set_title('Triangle de correlation Heatmap')\n",
    "plt.savefig(url + 'correlation_sex_code.png', dpi=300, bbox_inches='tight')\n",
    "plt.show()"
   ]
  },
  {
   "cell_type": "markdown",
   "id": "e93689b1",
   "metadata": {},
   "source": [
    "### Remarque:\n",
    "    on a fait une matrice de corrélations qui nous montre l'absence\n",
    "    de relation entre le sexe et toutes les autre variable "
   ]
  },
  {
   "cell_type": "code",
   "execution_count": 71,
   "id": "849dc651",
   "metadata": {},
   "outputs": [
    {
     "data": {
      "image/png": "[encoded data removed]",
      "text/plain": [
       "<Figure size 576x360 with 1 Axes>"
      ]
     },
     "metadata": {},
     "output_type": "display_data"
    }
   ],
   "source": [
    "sns.boxplot(data=part, x='age', showfliers=False)\n",
    "sns.violinplot(data=part, x='age', showfliers=False)\n",
    "plt.title('Distribution des âges')\n",
    "plt.savefig(url + 'dist_age.png', dpi=300, bbox_inches='tight')\n",
    "plt.show()"
   ]
  },
  {
   "cell_type": "markdown",
   "id": "4ef82b70",
   "metadata": {},
   "source": [
    "### Remarque:\n",
    "    les 30-50 ans on réaliser plus de la moitié des ventes."
   ]
  },
  {
   "cell_type": "code",
   "execution_count": 72,
   "id": "48a82210",
   "metadata": {},
   "outputs": [
    {
     "data": {
      "text/plain": [
       "<Figure size 576x360 with 0 Axes>"
      ]
     },
     "metadata": {},
     "output_type": "display_data"
    },
    {
     "data": {
      "image/png": "[encoded data removed]",
      "text/plain": [
       "<Figure size 414.975x360 with 1 Axes>"
      ]
     },
     "metadata": {},
     "output_type": "display_data"
    }
   ],
   "source": [
    "plt.figure(figsize=(8,5))\n",
    "sns.displot(data=part, x='age', hue='categ', kind='kde', fill=True)\n",
    "plt.title('Volume des transactions en fonction de l\\' âge et de la catégorie')\n",
    "plt.savefig(url + 'distplot_age_categ.png', dpi=300, bbox_inches='tight')\n",
    "plt.show()"
   ]
  },
  {
   "cell_type": "markdown",
   "id": "2b3ace20",
   "metadata": {},
   "source": [
    "### Remarque : \n",
    "    les 3 catégorie sont achèter par toutes les tranche d'age  \n",
    "    les moins de 30 ans n'achète quasiment que des produit de \n",
    "    la catégorie 2\n",
    "    les 30-50 achète principalement des produit de la catégorie 0"
   ]
  },
  {
   "cell_type": "code",
   "execution_count": 73,
   "id": "6eeb1e63",
   "metadata": {
    "scrolled": false
   },
   "outputs": [
    {
     "data": {
      "image/png": "[encoded data removed]",
      "text/plain": [
       "<Figure size 576x288 with 1 Axes>"
      ]
     },
     "metadata": {},
     "output_type": "display_data"
    }
   ],
   "source": [
    "plt.figure(figsize=(8, 4))\n",
    "sns.boxplot(data=df.sort_values(by='tranche_age'), y='tranche_age', x='price', showfliers=False)\n",
    "plt.title('Distribution des prix en fonction de la tranche d\\'âge')\n",
    "plt.savefig(url + 'boxplot_price_tranche-age.png', dpi=300, bbox_inches='tight')\n",
    "plt.show()"
   ]
  },
  {
   "cell_type": "code",
   "execution_count": 74,
   "id": "4a4b61a6",
   "metadata": {},
   "outputs": [
    {
     "data": {
      "image/png": "[encoded data removed]",
      "text/plain": [
       "<Figure size 576x360 with 1 Axes>"
      ]
     },
     "metadata": {},
     "output_type": "display_data"
    }
   ],
   "source": [
    "sns.boxplot(data=part.sort_values(by='tranche_age'), \n",
    "            y='tranche_age', x='total_achats', \n",
    "            showfliers=False, showmeans=True)\n",
    "plt.title('Distribution des chiffres d\\'affaires en fonction de la tranche d\\'âge')\n",
    "plt.savefig(url + 'boxplot_ca_tranche_age.png', dpi=300, bbox_inches='tight')\n",
    "plt.show()"
   ]
  },
  {
   "cell_type": "code",
   "execution_count": 75,
   "id": "5e5b1a4a",
   "metadata": {},
   "outputs": [
    {
     "data": {
      "image/png": "[encoded data removed]",
      "text/plain": [
       "<Figure size 576x288 with 1 Axes>"
      ]
     },
     "metadata": {},
     "output_type": "display_data"
    }
   ],
   "source": [
    "plt.figure(figsize=(8, 4))\n",
    "sns.scatterplot(data=part.sample(150), x='age', y='total_achats', hue='tranche_age', s=100)\n",
    "plt.title('Distribution des prix par tranche d\\'âge')\n",
    "plt.savefig(url + 'scatterplot_price_tranche_age.png', dpi=300, bbox_inches='tight')\n",
    "plt.show()"
   ]
  },
  {
   "cell_type": "code",
   "execution_count": 76,
   "id": "fe21aac5",
   "metadata": {},
   "outputs": [
    {
     "data": {
      "image/png": "[encoded data removed]",
      "text/plain": [
       "<Figure size 1152x360 with 1 Axes>"
      ]
     },
     "metadata": {},
     "output_type": "display_data"
    }
   ],
   "source": [
    "plt.figure(figsize=(16,5))\n",
    "sns.boxplot(\n",
    "    data=part.pivot_table(index=['client_id']),\n",
    "    y='ventes_mensuelles', x='age', showfliers=False)\n",
    "plt.xticks(rotation=90)\n",
    "plt.title('Distribution des fréquences d\\'achat, en fonction de l\\' âge')\n",
    "plt.savefig(url + 'boxplot_age_freq_achat.png', dpi=300, bbox_inches='tight')\n",
    "plt.show()"
   ]
  },
  {
   "cell_type": "code",
   "execution_count": 77,
   "id": "b33dfa2b",
   "metadata": {},
   "outputs": [
    {
     "data": {
      "image/png": "[encoded data removed]",
      "text/plain": [
       "<Figure size 1152x360 with 1 Axes>"
      ]
     },
     "metadata": {},
     "output_type": "display_data"
    }
   ],
   "source": [
    "plt.figure(figsize=(16,5))\n",
    "sns.boxplot(\n",
    "    data=part.pivot_table(index=['client_id']),\n",
    "    y='taille_panier_moyen', x='age', showfliers=False, showmeans=True)\n",
    "plt.xticks(rotation=90)\n",
    "plt.title('Distribution de la taille du panier moyen, en fonction de l\\'âge')\n",
    "plt.savefig(url + 'boxplot_taille_panier_age.png', dpi=300, bbox_inches='tight')\n",
    "plt.show()"
   ]
  },
  {
   "cell_type": "code",
   "execution_count": 78,
   "id": "4b4e5915",
   "metadata": {},
   "outputs": [
    {
     "ename": "SyntaxError",
     "evalue": "invalid character in identifier (1965195486.py, line 5)",
     "output_type": "error",
     "traceback": [
      "\u001b[0;36m  File \u001b[0;32m\"/var/folders/ks/38_vb5cn2xv7ztvz1bnvtsmm0000gn/T/ipykernel_45553/1965195486.py\"\u001b[0;36m, line \u001b[0;32m5\u001b[0m\n\u001b[0;31m    plt.savefig(url + 'histplot_transac_date_categ.png', dpi=300, bbox_inches='tight')\u001b[0m\n\u001b[0m                                                                                      ^\u001b[0m\n\u001b[0;31mSyntaxError\u001b[0m\u001b[0;31m:\u001b[0m invalid character in identifier\n"
     ]
    }
   ],
   "source": [
    "plt.figure(figsize=(8,5))\n",
    "sns.histplot(data=part, x='date', hue='categ', multiple='stack', binwidth=7)\n",
    "plt.xticks(rotation=45)\n",
    "plt.title('Volume des transactions en fonction des date et de la catégorie')\n",
    "plt.savefig(url + 'histplot_transac_date_categ.png', dpi=300, bbox_inches='tight') \n",
    "plt.show()"
   ]
  },
  {
   "cell_type": "code",
   "execution_count": null,
   "id": "3efa624c",
   "metadata": {},
   "outputs": [],
   "source": [
    "for i in sorted(df['categ'].unique()):\n",
    "    print('Catégorie', i)\n",
    "    sns.histplot(data=df[df['categ']==i], x='date')\n",
    "    plt.show()"
   ]
  },
  {
   "cell_type": "code",
   "execution_count": null,
   "id": "3c7a21b8",
   "metadata": {},
   "outputs": [],
   "source": [
    "df['categ'].value_counts(normalize=True).plot(\n",
    "    kind='pie',\n",
    "    legend=True,\n",
    "    autopct='%1.1f%%')\n",
    "plt.title('Volume des transactions en fonction de la catégorie')\n",
    "plt.savefig(url + 'pieplot_transac_categ.png', dpi=300, bbox_inches='tight')\n",
    "plt.show()"
   ]
  },
  {
   "cell_type": "markdown",
   "id": "f3acaf30",
   "metadata": {},
   "source": [
    "les 10  livres avec le plus chiffres d'affaires annuels"
   ]
  },
  {
   "cell_type": "code",
   "execution_count": null,
   "id": "755c6cfd",
   "metadata": {},
   "outputs": [],
   "source": [
    "df.pivot_table(index=['id_prod', 'categ'], aggfunc={'price': np.sum}).sort_values(by='price', ascending=False).reset_index().head(10)"
   ]
  },
  {
   "cell_type": "code",
   "execution_count": null,
   "id": "d6c82d19",
   "metadata": {},
   "outputs": [],
   "source": [
    "lorenz(df.pivot_table(index='id_prod', aggfunc='sum')['price'], 'Inégalités de CA entre produits')"
   ]
  },
  {
   "cell_type": "code",
   "execution_count": null,
   "id": "d286e50c",
   "metadata": {},
   "outputs": [],
   "source": [
    "data=df.pivot_table(index='categ', aggfunc={'price': np.sum}).plot(\n",
    "    kind='pie', y='price',\n",
    "    legend=True,\n",
    "    autopct='%1.1f%%'\n",
    ")\n",
    "plt.title('Répartition du chiffres d\\'affaires en fonction de la catégorie')\n",
    "plt.savefig(url + 'pieplot_ca_categ.png', dpi=300, bbox_inches='tight')\n",
    "plt.show()"
   ]
  },
  {
   "cell_type": "code",
   "execution_count": null,
   "id": "863aa285",
   "metadata": {},
   "outputs": [],
   "source": [
    "plt.figure(figsize=(8,3))\n",
    "sns.boxplot(\n",
    "    data=df, y='categ', x='price', \n",
    "    showmeans=True, showfliers=False, orient='h')\n",
    "plt.title('Distribution des prix en fonctin de la catégorie')\n",
    "plt.savefig(url + 'boxplot_price_categ_means.png', dpi=300, bbox_inches='tight')\n",
    "plt.show()"
   ]
  },
  {
   "cell_type": "code",
   "execution_count": null,
   "id": "b9ea7e93",
   "metadata": {},
   "outputs": [],
   "source": [
    "for i in sorted(df['categ'].unique()):\n",
    "    print('Catégorie', i)\n",
    "    print(pd.Series(df[df['categ']==i]['price'].describe()), '\\n')"
   ]
  },
  {
   "cell_type": "markdown",
   "id": "7bb5bcb9",
   "metadata": {},
   "source": [
    "### ANOVA :\n",
    "on va utiliser l'analyse de la variance pour vérifer la corrélation entre une valeur qualitative et une valeur quantitative.\n"
   ]
  },
  {
   "cell_type": "markdown",
   "id": "e7f13b52",
   "metadata": {},
   "source": [
    "test sur l'age et la catégorie"
   ]
  },
  {
   "cell_type": "code",
   "execution_count": null,
   "id": "ca86c7a1",
   "metadata": {},
   "outputs": [],
   "source": [
    "sns.boxplot(data=df, x='age', y='categ', orient='h', showfliers=False, showmeans=True)\n",
    "plt.title('Distribution des âges en fonciton de la catégorie')\n",
    "plt.savefig(url + 'boxplot_age_categ.png', dpi=300, bbox_inches='tight')\n",
    "plt.show()"
   ]
  },
  {
   "cell_type": "code",
   "execution_count": null,
   "id": "216c3748",
   "metadata": {},
   "outputs": [],
   "source": [
    "df.groupby('categ').mean()['age']"
   ]
  },
  {
   "cell_type": "markdown",
   "id": "8be426d3",
   "metadata": {},
   "source": [
    "moyenne des prix en fonciton de la catégorie "
   ]
  },
  {
   "cell_type": "code",
   "execution_count": null,
   "id": "225d8ba3",
   "metadata": {},
   "outputs": [],
   "source": [
    "import statsmodels.api as sm\n",
    "import statsmodels.formula.api as smf\n",
    "from statsmodels.formula.api import ols\n",
    "\n",
    "# ANOVA\n",
    "sample_df = df.sample(5000)\n",
    "model = smf.ols('age ~ categ', data=sample_df).fit()\n",
    "anova_table = sm.stats.anova_lm(model, typ=2)\n",
    "p = anova_table['PR(>F)'][0]\n",
    "print('ANOVA\\np-value :', p, '\\nstat (F) :', anova_table['F'][0])\n",
    "if p > 0.05:\n",
    "    print('H0: the means of the samples are equal.')\n",
    "else:\n",
    "    print('H1: one or more of the means of the samples are unequal.'\n",
    "         '\\n\\nConditions :'\n",
    "         '\\n1. Normalité des résidus\\n2. Homoscédasticité')"
   ]
  },
  {
   "cell_type": "code",
   "execution_count": null,
   "id": "7af6c180",
   "metadata": {},
   "outputs": [],
   "source": [
    "from statsmodels.graphics.gofplots import qqplot\n",
    "\n",
    "# Test de Shapiro sur les résidus\n",
    "print('Normalité des résidus (Shapiro)')\n",
    "print('\\nstats :', stats.shapiro(model.resid)[0],\n",
    "    '\\np-value :', stats.shapiro(model.resid)[1])\n",
    "if p>.05:\n",
    "    print('H0 acceptée : distribution normale')\n",
    "else:\n",
    "    print('H0 rejetée : distribution probablement pas normale')\n",
    "qqplot(model.resid, line='s')\n",
    "plt.show()"
   ]
  },
  {
   "cell_type": "code",
   "execution_count": null,
   "id": "3895cfec",
   "metadata": {},
   "outputs": [],
   "source": [
    "from scipy.special import boxcox1p\n",
    "\n",
    "# Test de Shapiro sur les résidus après boxcox\n",
    "residus = boxcox1p(model.resid, 1)\n",
    "p = stats.shapiro(residus)[1]\n",
    "print('Normalité des résidus après boxcox :'\n",
    "    '\\nstats :', stats.shapiro(residus)[0],\n",
    "    '\\np-value :', p)\n",
    "if p>.05:\n",
    "    print('H0 acceptée : distribution normale')\n",
    "else:\n",
    "    print('H0 rejetée : distribution probablement pas normale')\n",
    "qqplot(residus, line='s')\n",
    "plt.show()"
   ]
  },
  {
   "cell_type": "code",
   "execution_count": null,
   "id": "a901da17",
   "metadata": {},
   "outputs": [],
   "source": [
    "# Test de Levene sur les 3 catégories\n",
    "samples = 4000\n",
    "a = df[df['categ']==0]['age'].sample(samples).values\n",
    "b = df[df['categ']==1]['age'].sample(samples).values\n",
    "c = df[df['categ']==2]['age'].sample(samples).values\n",
    "stat, p = stats.levene(a, b, c)\n",
    "print('Condition 2 : homoscédasticité (Levene)',\n",
    "    '\\nstats :', stat,\n",
    "    '\\np-value :', p)\n",
    "if p > 0.05:\n",
    "    print('H0: les variances sont égales')\n",
    "else:\n",
    "    print('H1: les variances ne sont pas égales (essayer Welch ANOVA)')\n",
    "print('\\nConditions :'\n",
    "      '\\n- The samples from the populations under consideration are independent',\n",
    "      '\\n- The populations under consideration are approximately normally distributed')   "
   ]
  },
  {
   "cell_type": "code",
   "execution_count": null,
   "id": "a1a62fc9",
   "metadata": {},
   "outputs": [],
   "source": [
    "# Test de Welch entre catégorielle et quantitative\n",
    "stat, p = stats.ttest_ind(sample_df['age'], sample_df['categ'])\n",
    "print('Test de Welch (si absence d\\'homoscédasticité)\\n')\n",
    "print('p-value :', p, '\\nstat :', stat)\n",
    "if p > 0.05:\n",
    "    print('H0: les moyennes des échantillons sont égales')\n",
    "else:\n",
    "    print('H1: une ou plus des moyennes des échantillons sont inégales')"
   ]
  },
  {
   "cell_type": "markdown",
   "id": "56f7683d",
   "metadata": {},
   "source": [
    "### Chi 2 (catégorie et sexe)"
   ]
  },
  {
   "cell_type": "code",
   "execution_count": null,
   "id": "1df4d0f8",
   "metadata": {},
   "outputs": [],
   "source": [
    "sns.displot(data=part, x='sex', hue='categ')\n",
    "plt.title('Effectifs des ventes pour les particuler en fonciton du  sexe et de la catégorie')\n",
    "plt.show()"
   ]
  },
  {
   "cell_type": "code",
   "execution_count": null,
   "id": "8ff9e9f2",
   "metadata": {},
   "outputs": [],
   "source": [
    "# pour la table de contingence utiliser pd.crosstable pour la part\n",
    "crosstab = pd.crosstab(part['categ'], part['sex'], margins=False)\n",
    "crosstab"
   ]
  },
  {
   "cell_type": "code",
   "execution_count": null,
   "id": "6ffbc898",
   "metadata": {},
   "outputs": [],
   "source": [
    "# importer researchy pour utilise la table de contingence normalisée\n",
    "import researchpy as rp \n",
    "\n",
    "table, results = rp.crosstab(part['categ'], part['sex'], prop = 'col',test='chi-square')\n",
    "table"
   ]
  },
  {
   "cell_type": "code",
   "execution_count": null,
   "id": "a5b5c4cc",
   "metadata": {
    "scrolled": true
   },
   "outputs": [],
   "source": [
    "sns.heatmap(crosstab)\n",
    "plt.title('  sexe / catégorie')\n",
    "plt.savefig(url + 'crosstab_heatmap.png', dpi=300, bbox_inches='tight')\n",
    "plt.show"
   ]
  },
  {
   "cell_type": "code",
   "execution_count": null,
   "id": "7e46d850",
   "metadata": {
    "scrolled": true
   },
   "outputs": [],
   "source": [
    "# Test de Chi 2\n",
    "sample_df = part.sample(1500)\n",
    "table = pd.crosstab(sample_df['categ'], sample_df['sex'], margins=False)\n",
    "stat, p, dof, expected = stats.chi2_contingency(table)\n",
    "print('Test de Chi 2 (2 catégorielles)')\n",
    "print('Stat = %.3f\\np-value = %.35f' % (stat, p))\n",
    "if p > .05:\n",
    "    print('H0: the two samples are independent')\n",
    "else:\n",
    "    print('H1: there is a dependency between the samples.')\n",
    "print('\\nConditions :\\n'\n",
    "      '- Observations used in the calculation of the contingency table are independent.',\n",
    "      '\\n- 25 or more examples in each cell of the contingency table.')"
   ]
  },
  {
   "cell_type": "code",
   "execution_count": null,
   "id": "a20e3359",
   "metadata": {},
   "outputs": [],
   "source": []
  }
 ],
 "metadata": {
  "kernelspec": {
   "display_name": "Python 3 (ipykernel)",
   "language": "python",
   "name": "python3"
  },
  "language_info": {
   "codemirror_mode": {
    "name": "ipython",
    "version": 3
   },
   "file_extension": ".py",
   "mimetype": "text/x-python",
   "name": "python",
   "nbconvert_exporter": "python",
   "pygments_lexer": "ipython3",
   "version": "3.8.11"
  }
 },
 "nbformat": 4,
 "nbformat_minor": 5
}
