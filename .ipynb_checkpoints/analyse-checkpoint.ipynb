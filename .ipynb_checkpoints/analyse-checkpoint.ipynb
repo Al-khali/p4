{
 "cells": [
  {
   "cell_type": "code",
   "execution_count": 1,
   "id": "2b08a07e",
   "metadata": {},
   "outputs": [],
   "source": [
    "import pandas as pd\n",
    "import numpy as np\n",
    "import matplotlib.pyplot as plt \n",
    "import seaborn as sns\n",
    "import sklearn as sk \n",
    "import scipy.stats as stats\n",
    "from utility import *"
   ]
  },
  {
   "cell_type": "code",
   "execution_count": 2,
   "id": "c847a439",
   "metadata": {},
   "outputs": [],
   "source": [
    "# reglage de seaborn \n",
    "sns.set(\n",
    "    style='darkgrid',\n",
    "    context='notebook',\n",
    "    palette='Paired',\n",
    "    rc={'figure.figsize':(8,5)}\n",
    ")\n",
    "# reduction du nombre de décimale affiché \n",
    "pd.options.display.float_format = '{:,.2f}'.format"
   ]
  },
  {
   "cell_type": "code",
   "execution_count": 3,
   "id": "d81223a9",
   "metadata": {},
   "outputs": [],
   "source": [
    "df = pd.read_csv('clean_df.csv')"
   ]
  },
  {
   "cell_type": "code",
   "execution_count": 4,
   "id": "d672bd33",
   "metadata": {},
   "outputs": [
    {
     "data": {
      "text/html": [
       "<div>\n",
       "<style scoped>\n",
       "    .dataframe tbody tr th:only-of-type {\n",
       "        vertical-align: middle;\n",
       "    }\n",
       "\n",
       "    .dataframe tbody tr th {\n",
       "        vertical-align: top;\n",
       "    }\n",
       "\n",
       "    .dataframe thead th {\n",
       "        text-align: right;\n",
       "    }\n",
       "</style>\n",
       "<table border=\"1\" class=\"dataframe\">\n",
       "  <thead>\n",
       "    <tr style=\"text-align: right;\">\n",
       "      <th></th>\n",
       "      <th>id_prod</th>\n",
       "      <th>date</th>\n",
       "      <th>session_id</th>\n",
       "      <th>client_id</th>\n",
       "      <th>sex</th>\n",
       "      <th>birth</th>\n",
       "      <th>price</th>\n",
       "      <th>categ</th>\n",
       "      <th>mois</th>\n",
       "      <th>total_ventes</th>\n",
       "      <th>ventes_mensuelles</th>\n",
       "      <th>taille_panier_moyen</th>\n",
       "      <th>panier_moyen</th>\n",
       "      <th>total_achats</th>\n",
       "      <th>age</th>\n",
       "      <th>tranche_age</th>\n",
       "    </tr>\n",
       "  </thead>\n",
       "  <tbody>\n",
       "    <tr>\n",
       "      <th>0</th>\n",
       "      <td>0_1483</td>\n",
       "      <td>2021-04-10 18:37:28.723910</td>\n",
       "      <td>s_18746</td>\n",
       "      <td>c_4450</td>\n",
       "      <td>f</td>\n",
       "      <td>1977</td>\n",
       "      <td>4.99</td>\n",
       "      <td>0.00</td>\n",
       "      <td>4</td>\n",
       "      <td>95</td>\n",
       "      <td>9.00</td>\n",
       "      <td>2.32</td>\n",
       "      <td>12.10</td>\n",
       "      <td>1,143.85</td>\n",
       "      <td>44</td>\n",
       "      <td>40-50</td>\n",
       "    </tr>\n",
       "    <tr>\n",
       "      <th>1</th>\n",
       "      <td>2_226</td>\n",
       "      <td>2022-02-03 01:55:53.276402</td>\n",
       "      <td>s_159142</td>\n",
       "      <td>c_277</td>\n",
       "      <td>f</td>\n",
       "      <td>2000</td>\n",
       "      <td>65.75</td>\n",
       "      <td>2.00</td>\n",
       "      <td>2</td>\n",
       "      <td>15</td>\n",
       "      <td>1.00</td>\n",
       "      <td>2.14</td>\n",
       "      <td>40.94</td>\n",
       "      <td>536.74</td>\n",
       "      <td>21</td>\n",
       "      <td>18-30</td>\n",
       "    </tr>\n",
       "    <tr>\n",
       "      <th>2</th>\n",
       "      <td>1_374</td>\n",
       "      <td>2021-09-23 15:13:46.938559</td>\n",
       "      <td>s_94290</td>\n",
       "      <td>c_4270</td>\n",
       "      <td>f</td>\n",
       "      <td>1979</td>\n",
       "      <td>10.71</td>\n",
       "      <td>1.00</td>\n",
       "      <td>9</td>\n",
       "      <td>63</td>\n",
       "      <td>6.00</td>\n",
       "      <td>2.86</td>\n",
       "      <td>13.65</td>\n",
       "      <td>856.59</td>\n",
       "      <td>42</td>\n",
       "      <td>40-50</td>\n",
       "    </tr>\n",
       "    <tr>\n",
       "      <th>3</th>\n",
       "      <td>0_1351</td>\n",
       "      <td>2021-07-17 20:34:25.800563</td>\n",
       "      <td>s_63642</td>\n",
       "      <td>c_1242</td>\n",
       "      <td>f</td>\n",
       "      <td>1980</td>\n",
       "      <td>8.99</td>\n",
       "      <td>0.00</td>\n",
       "      <td>7</td>\n",
       "      <td>26</td>\n",
       "      <td>2.00</td>\n",
       "      <td>2.89</td>\n",
       "      <td>14.02</td>\n",
       "      <td>361.27</td>\n",
       "      <td>41</td>\n",
       "      <td>40-50</td>\n",
       "    </tr>\n",
       "    <tr>\n",
       "      <th>4</th>\n",
       "      <td>0_1085</td>\n",
       "      <td>2021-09-15 05:47:48.215162</td>\n",
       "      <td>s_90139</td>\n",
       "      <td>c_2526</td>\n",
       "      <td>f</td>\n",
       "      <td>1982</td>\n",
       "      <td>3.99</td>\n",
       "      <td>0.00</td>\n",
       "      <td>9</td>\n",
       "      <td>77</td>\n",
       "      <td>7.00</td>\n",
       "      <td>3.08</td>\n",
       "      <td>13.43</td>\n",
       "      <td>1,081.43</td>\n",
       "      <td>39</td>\n",
       "      <td>30-40</td>\n",
       "    </tr>\n",
       "  </tbody>\n",
       "</table>\n",
       "</div>"
      ],
      "text/plain": [
       "  id_prod                        date session_id client_id sex  birth  price  \\\n",
       "0  0_1483  2021-04-10 18:37:28.723910    s_18746    c_4450   f   1977   4.99   \n",
       "1   2_226  2022-02-03 01:55:53.276402   s_159142     c_277   f   2000  65.75   \n",
       "2   1_374  2021-09-23 15:13:46.938559    s_94290    c_4270   f   1979  10.71   \n",
       "3  0_1351  2021-07-17 20:34:25.800563    s_63642    c_1242   f   1980   8.99   \n",
       "4  0_1085  2021-09-15 05:47:48.215162    s_90139    c_2526   f   1982   3.99   \n",
       "\n",
       "   categ  mois  total_ventes  ventes_mensuelles  taille_panier_moyen  \\\n",
       "0   0.00     4            95               9.00                 2.32   \n",
       "1   2.00     2            15               1.00                 2.14   \n",
       "2   1.00     9            63               6.00                 2.86   \n",
       "3   0.00     7            26               2.00                 2.89   \n",
       "4   0.00     9            77               7.00                 3.08   \n",
       "\n",
       "   panier_moyen  total_achats  age tranche_age  \n",
       "0         12.10      1,143.85   44       40-50  \n",
       "1         40.94        536.74   21       18-30  \n",
       "2         13.65        856.59   42       40-50  \n",
       "3         14.02        361.27   41       40-50  \n",
       "4         13.43      1,081.43   39       30-40  "
      ]
     },
     "execution_count": 4,
     "metadata": {},
     "output_type": "execute_result"
    }
   ],
   "source": [
    "df.head(5)"
   ]
  },
  {
   "cell_type": "code",
   "execution_count": 5,
   "id": "d5d45f4b",
   "metadata": {},
   "outputs": [
    {
     "data": {
      "text/html": [
       "<div>\n",
       "<style scoped>\n",
       "    .dataframe tbody tr th:only-of-type {\n",
       "        vertical-align: middle;\n",
       "    }\n",
       "\n",
       "    .dataframe tbody tr th {\n",
       "        vertical-align: top;\n",
       "    }\n",
       "\n",
       "    .dataframe thead th {\n",
       "        text-align: right;\n",
       "    }\n",
       "</style>\n",
       "<table border=\"1\" class=\"dataframe\">\n",
       "  <thead>\n",
       "    <tr style=\"text-align: right;\">\n",
       "      <th></th>\n",
       "      <th>client_id</th>\n",
       "      <th>panier_moyen</th>\n",
       "      <th>taille_panier_moyen</th>\n",
       "      <th>total_achats</th>\n",
       "      <th>total_ventes</th>\n",
       "      <th>ventes_mensuelles</th>\n",
       "    </tr>\n",
       "  </thead>\n",
       "  <tbody>\n",
       "    <tr>\n",
       "      <th>0</th>\n",
       "      <td>c_1609</td>\n",
       "      <td>12.72</td>\n",
       "      <td>35.41</td>\n",
       "      <td>151,018.91</td>\n",
       "      <td>11861</td>\n",
       "      <td>1,078.00</td>\n",
       "    </tr>\n",
       "    <tr>\n",
       "      <th>1</th>\n",
       "      <td>c_4958</td>\n",
       "      <td>55.31</td>\n",
       "      <td>7.42</td>\n",
       "      <td>137,456.83</td>\n",
       "      <td>2463</td>\n",
       "      <td>224.00</td>\n",
       "    </tr>\n",
       "    <tr>\n",
       "      <th>2</th>\n",
       "      <td>c_6714</td>\n",
       "      <td>16.66</td>\n",
       "      <td>12.98</td>\n",
       "      <td>69,493.36</td>\n",
       "      <td>4193</td>\n",
       "      <td>381.00</td>\n",
       "    </tr>\n",
       "    <tr>\n",
       "      <th>3</th>\n",
       "      <td>c_3454</td>\n",
       "      <td>16.62</td>\n",
       "      <td>9.39</td>\n",
       "      <td>52,845.11</td>\n",
       "      <td>3145</td>\n",
       "      <td>286.00</td>\n",
       "    </tr>\n",
       "    <tr>\n",
       "      <th>4</th>\n",
       "      <td>c_8026</td>\n",
       "      <td>13.47</td>\n",
       "      <td>2.88</td>\n",
       "      <td>2,434.49</td>\n",
       "      <td>184</td>\n",
       "      <td>17.00</td>\n",
       "    </tr>\n",
       "    <tr>\n",
       "      <th>5</th>\n",
       "      <td>c_7421</td>\n",
       "      <td>13.58</td>\n",
       "      <td>2.83</td>\n",
       "      <td>2,406.17</td>\n",
       "      <td>178</td>\n",
       "      <td>16.00</td>\n",
       "    </tr>\n",
       "    <tr>\n",
       "      <th>6</th>\n",
       "      <td>c_7319</td>\n",
       "      <td>13.57</td>\n",
       "      <td>2.75</td>\n",
       "      <td>2,366.20</td>\n",
       "      <td>168</td>\n",
       "      <td>15.00</td>\n",
       "    </tr>\n",
       "    <tr>\n",
       "      <th>7</th>\n",
       "      <td>c_3263</td>\n",
       "      <td>13.82</td>\n",
       "      <td>3.05</td>\n",
       "      <td>2,346.34</td>\n",
       "      <td>177</td>\n",
       "      <td>16.00</td>\n",
       "    </tr>\n",
       "    <tr>\n",
       "      <th>8</th>\n",
       "      <td>c_8392</td>\n",
       "      <td>13.76</td>\n",
       "      <td>2.76</td>\n",
       "      <td>2,332.08</td>\n",
       "      <td>171</td>\n",
       "      <td>16.00</td>\n",
       "    </tr>\n",
       "    <tr>\n",
       "      <th>9</th>\n",
       "      <td>c_2899</td>\n",
       "      <td>53.69</td>\n",
       "      <td>1.62</td>\n",
       "      <td>2,313.54</td>\n",
       "      <td>47</td>\n",
       "      <td>4.00</td>\n",
       "    </tr>\n",
       "  </tbody>\n",
       "</table>\n",
       "</div>"
      ],
      "text/plain": [
       "  client_id  panier_moyen  taille_panier_moyen  total_achats  total_ventes  \\\n",
       "0    c_1609         12.72                35.41    151,018.91         11861   \n",
       "1    c_4958         55.31                 7.42    137,456.83          2463   \n",
       "2    c_6714         16.66                12.98     69,493.36          4193   \n",
       "3    c_3454         16.62                 9.39     52,845.11          3145   \n",
       "4    c_8026         13.47                 2.88      2,434.49           184   \n",
       "5    c_7421         13.58                 2.83      2,406.17           178   \n",
       "6    c_7319         13.57                 2.75      2,366.20           168   \n",
       "7    c_3263         13.82                 3.05      2,346.34           177   \n",
       "8    c_8392         13.76                 2.76      2,332.08           171   \n",
       "9    c_2899         53.69                 1.62      2,313.54            47   \n",
       "\n",
       "   ventes_mensuelles  \n",
       "0           1,078.00  \n",
       "1             224.00  \n",
       "2             381.00  \n",
       "3             286.00  \n",
       "4              17.00  \n",
       "5              16.00  \n",
       "6              15.00  \n",
       "7              16.00  \n",
       "8              16.00  \n",
       "9               4.00  "
      ]
     },
     "execution_count": 5,
     "metadata": {},
     "output_type": "execute_result"
    }
   ],
   "source": [
    "ca = df.pivot_table(\n",
    "    index='client_id', values=[\n",
    "        'total_achats','ventes_mensuelles','taille_panier_moyen','total_ventes','panier_moyen']\n",
    "    ).sort_values(by='total_achats', ascending=False).reset_index()\n",
    "\n",
    "ca.head(10)"
   ]
  },
  {
   "cell_type": "code",
   "execution_count": 6,
   "id": "9e78503e",
   "metadata": {},
   "outputs": [
    {
     "name": "stderr",
     "output_type": "stream",
     "text": [
      "/Users/khaild/opt/anaconda3/lib/python3.8/site-packages/pandas/core/indexing.py:1732: SettingWithCopyWarning: \n",
      "A value is trying to be set on a copy of a slice from a DataFrame\n",
      "\n",
      "See the caveats in the documentation: https://pandas.pydata.org/pandas-docs/stable/user_guide/indexing.html#returning-a-view-versus-a-copy\n",
      "  self._setitem_single_block(indexer, value, name)\n"
     ]
    },
    {
     "data": {
      "text/html": [
       "<div>\n",
       "<style scoped>\n",
       "    .dataframe tbody tr th:only-of-type {\n",
       "        vertical-align: middle;\n",
       "    }\n",
       "\n",
       "    .dataframe tbody tr th {\n",
       "        vertical-align: top;\n",
       "    }\n",
       "\n",
       "    .dataframe thead th {\n",
       "        text-align: right;\n",
       "    }\n",
       "</style>\n",
       "<table border=\"1\" class=\"dataframe\">\n",
       "  <thead>\n",
       "    <tr style=\"text-align: right;\">\n",
       "      <th></th>\n",
       "      <th>id_prod</th>\n",
       "      <th>date</th>\n",
       "      <th>session_id</th>\n",
       "      <th>client_id</th>\n",
       "      <th>sex</th>\n",
       "      <th>birth</th>\n",
       "      <th>price</th>\n",
       "      <th>categ</th>\n",
       "      <th>mois</th>\n",
       "      <th>total_ventes</th>\n",
       "      <th>ventes_mensuelles</th>\n",
       "      <th>taille_panier_moyen</th>\n",
       "      <th>panier_moyen</th>\n",
       "      <th>total_achats</th>\n",
       "      <th>age</th>\n",
       "      <th>tranche_age</th>\n",
       "      <th>type_client</th>\n",
       "    </tr>\n",
       "  </thead>\n",
       "  <tbody>\n",
       "    <tr>\n",
       "      <th>98829</th>\n",
       "      <td>0_1295</td>\n",
       "      <td>2021-12-28 15:20:56.516308</td>\n",
       "      <td>s_141376</td>\n",
       "      <td>c_6920</td>\n",
       "      <td>f</td>\n",
       "      <td>1990</td>\n",
       "      <td>10.99</td>\n",
       "      <td>0.00</td>\n",
       "      <td>12</td>\n",
       "      <td>79</td>\n",
       "      <td>7.00</td>\n",
       "      <td>2.72</td>\n",
       "      <td>13.77</td>\n",
       "      <td>1,108.86</td>\n",
       "      <td>31</td>\n",
       "      <td>30-40</td>\n",
       "      <td>particulier</td>\n",
       "    </tr>\n",
       "    <tr>\n",
       "      <th>118332</th>\n",
       "      <td>1_414</td>\n",
       "      <td>2021-03-18 06:44:17.872635</td>\n",
       "      <td>s_7931</td>\n",
       "      <td>c_4309</td>\n",
       "      <td>m</td>\n",
       "      <td>1977</td>\n",
       "      <td>23.83</td>\n",
       "      <td>1.00</td>\n",
       "      <td>3</td>\n",
       "      <td>123</td>\n",
       "      <td>11.00</td>\n",
       "      <td>2.93</td>\n",
       "      <td>12.55</td>\n",
       "      <td>1,545.76</td>\n",
       "      <td>44</td>\n",
       "      <td>40-50</td>\n",
       "      <td>particulier</td>\n",
       "    </tr>\n",
       "    <tr>\n",
       "      <th>107425</th>\n",
       "      <td>2_32</td>\n",
       "      <td>2022-02-10 11:13:45.985861</td>\n",
       "      <td>s_162909</td>\n",
       "      <td>c_4958</td>\n",
       "      <td>m</td>\n",
       "      <td>1999</td>\n",
       "      <td>55.79</td>\n",
       "      <td>2.00</td>\n",
       "      <td>2</td>\n",
       "      <td>2463</td>\n",
       "      <td>224.00</td>\n",
       "      <td>7.42</td>\n",
       "      <td>55.31</td>\n",
       "      <td>137,456.83</td>\n",
       "      <td>22</td>\n",
       "      <td>18-30</td>\n",
       "      <td>pro</td>\n",
       "    </tr>\n",
       "  </tbody>\n",
       "</table>\n",
       "</div>"
      ],
      "text/plain": [
       "       id_prod                        date session_id client_id sex  birth  \\\n",
       "98829   0_1295  2021-12-28 15:20:56.516308   s_141376    c_6920   f   1990   \n",
       "118332   1_414  2021-03-18 06:44:17.872635     s_7931    c_4309   m   1977   \n",
       "107425    2_32  2022-02-10 11:13:45.985861   s_162909    c_4958   m   1999   \n",
       "\n",
       "        price  categ  mois  total_ventes  ventes_mensuelles  \\\n",
       "98829   10.99   0.00    12            79               7.00   \n",
       "118332  23.83   1.00     3           123              11.00   \n",
       "107425  55.79   2.00     2          2463             224.00   \n",
       "\n",
       "        taille_panier_moyen  panier_moyen  total_achats  age tranche_age  \\\n",
       "98829                  2.72         13.77      1,108.86   31       30-40   \n",
       "118332                 2.93         12.55      1,545.76   44       40-50   \n",
       "107425                 7.42         55.31    137,456.83   22       18-30   \n",
       "\n",
       "        type_client  \n",
       "98829   particulier  \n",
       "118332  particulier  \n",
       "107425          pro  "
      ]
     },
     "execution_count": 6,
     "metadata": {},
     "output_type": "execute_result"
    }
   ],
   "source": [
    "# Création d'une variable 'Type' de client (2 modalités : particulier ou professionnel)\n",
    "df['type_client'] = 'particulier'\n",
    "df['type_client'].loc[df[df['client_id'].isin(ca.head(4)['client_id'])].index] = 'pro'\n",
    "\n",
    "\n",
    "pro = df[df['type_client']=='pro']\n",
    "part = df[df['type_client']=='particulier']\n",
    "\n",
    "df.sample(3)"
   ]
  },
  {
   "cell_type": "code",
   "execution_count": 7,
   "id": "6fe48390",
   "metadata": {},
   "outputs": [
    {
     "name": "stdout",
     "output_type": "stream",
     "text": [
      "les clients pro représente  7.48 % du chiffre d' affaires annuel\n"
     ]
    }
   ],
   "source": [
    "print('les clients pro représente ', round(pro['price'].sum()/df['price'].sum()*100, 2), '% du chiffre d\\' affaires annuel')"
   ]
  },
  {
   "cell_type": "code",
   "execution_count": 8,
   "id": "d40cbf82",
   "metadata": {},
   "outputs": [
    {
     "data": {
      "image/png": "[encoded data removed]",
      "text/plain": [
       "<Figure size 504x504 with 1 Axes>"
      ]
     },
     "metadata": {},
     "output_type": "display_data"
    }
   ],
   "source": [
    "plt.figure(figsize=(7,7))\n",
    "df['type_client'].value_counts(normalize=True).plot(kind='pie',legend=True,autopct='%1.1f%%', colors=['royalblue', 'limegreen'])\n",
    "plt.title('Volume des transaction par rapport au type de client')\n",
    "plt.show()"
   ]
  },
  {
   "cell_type": "code",
   "execution_count": 9,
   "id": "38c09879",
   "metadata": {},
   "outputs": [
    {
     "name": "stdout",
     "output_type": "stream",
     "text": [
      "Incide de Gini : 0.4400633281764934\n"
     ]
    },
    {
     "data": {
      "image/png": "[encoded data removed]",
      "text/plain": [
       "<Figure size 576x360 with 1 Axes>"
      ]
     },
     "metadata": {},
     "output_type": "display_data"
    }
   ],
   "source": [
    "lorenz(ca['total_achats'], 'Inégalités du C.A entre tous les clients')"
   ]
  },
  {
   "cell_type": "code",
   "execution_count": 10,
   "id": "cd8bdd8f",
   "metadata": {},
   "outputs": [
    {
     "name": "stdout",
     "output_type": "stream",
     "text": [
      "Incide de Gini : 0.39549570238232845\n"
     ]
    },
    {
     "data": {
      "image/png": "[encoded data removed]",
      "text/plain": [
       "<Figure size 576x360 with 1 Axes>"
      ]
     },
     "metadata": {},
     "output_type": "display_data"
    }
   ],
   "source": [
    "lorenz(part.pivot_table(index='client_id')['total_achats'], 'Inégalités des C.A entre tout les client particuliers ')"
   ]
  },
  {
   "cell_type": "code",
   "execution_count": 11,
   "id": "c02b7c16",
   "metadata": {},
   "outputs": [
    {
     "data": {
      "image/png": "[encoded data removed]",
      "text/plain": [
       "<Figure size 576x360 with 1 Axes>"
      ]
     },
     "metadata": {},
     "output_type": "display_data"
    }
   ],
   "source": [
    "sns.countplot(data=pro, x='client_id', hue='categ')\n",
    "plt.title('Volume d\\'achats des clients professionnels, par catégorie')\n",
    "plt.show()"
   ]
  },
  {
   "cell_type": "code",
   "execution_count": 12,
   "id": "2e7a8eed",
   "metadata": {},
   "outputs": [
    {
     "data": {
      "image/png": "[encoded data removed]",
      "text/plain": [
       "<Figure size 576x360 with 1 Axes>"
      ]
     },
     "metadata": {},
     "output_type": "display_data"
    }
   ],
   "source": [
    "plt.figure(figsize=(8,5))\n",
    "sns.boxplot(data=pro, y='price', x='client_id', showfliers=False)\n",
    "plt.title('Dstribution des prix d\\'achat des professionnels, par catégorie')\n",
    "plt.show()"
   ]
  },
  {
   "cell_type": "code",
   "execution_count": null,
   "id": "b890f8b2",
   "metadata": {},
   "outputs": [
    {
     "name": "stdout",
     "output_type": "stream",
     "text": [
      "Client c_1609\n"
     ]
    }
   ],
   "source": [
    "for i in pro['client_id'].unique():\n",
    "    print('Client', i)\n",
    "    plt.figure(figsize=(8,5))\n",
    "    sns.histplot(data=pro[pro['client_id']==i], x='date', hue='categ', binwidth=7)\n",
    "    plt.show()"
   ]
  },
  {
   "cell_type": "code",
   "execution_count": null,
   "id": "2d523786",
   "metadata": {},
   "outputs": [],
   "source": [
    "fig, axes = plt.subplots(1, 2)\n",
    "fig.suptitle('Pyramide des âges en fonction du sexe')\n",
    "\n",
    "sns.histplot(ax=axes[0], y=part[part['sex']=='m']['age'], bins=12)\n",
    "axes[0].invert_xaxis()\n",
    "axes[0].set_title('Hommes')\n",
    "\n",
    "sns.histplot(ax=axes[1], y=part[part['sex']=='f']['age'], bins=12)\n",
    "axes[1].set_yticklabels([])\n",
    "axes[1].set_ylabel('')\n",
    "axes[1].set_title('Femmes')\n",
    "\n",
    "plt.subplots_adjust(wspace=0, hspace=0)\n",
    "plt.show()"
   ]
  },
  {
   "cell_type": "code",
   "execution_count": null,
   "id": "e6ca6ccf",
   "metadata": {},
   "outputs": [],
   "source": [
    "plt.figure(figsize=(8,5))\n",
    "sns.histplot(data=part, x='date', hue='sex', binwidth=7)\n",
    "plt.title('Volume des ventes en fonction du sexe et de la date d\\'achat')\n",
    "plt.show()"
   ]
  },
  {
   "cell_type": "code",
   "execution_count": null,
   "id": "7fbdea4b",
   "metadata": {},
   "outputs": [],
   "source": [
    "sns.displot(data=part, x='sex', hue='categ')\n",
    "plt.title('Effectifs des ventes des particuler en fonction du sexe et de la catégorie')\n",
    "plt.show()"
   ]
  },
  {
   "cell_type": "code",
   "execution_count": null,
   "id": "08809c2c",
   "metadata": {},
   "outputs": [],
   "source": [
    "plt.figure(figsize=(8,3))\n",
    "sns.violinplot(data=part, x='price', y='sex', showfliers=False, showmeans=True)\n",
    "plt.xlim([0,35])\n",
    "plt.title('Distribution des prix en fonction du  sexe')\n",
    "plt.show()"
   ]
  },
  {
   "cell_type": "code",
   "execution_count": null,
   "id": "45fba734",
   "metadata": {},
   "outputs": [],
   "source": [
    "part = pd.concat([part,\n",
    "    pd.get_dummies(part['sex'], drop_first=True).rename(columns={'m': 'sex_code'})],\n",
    "    axis=1)\n",
    "part.sample(3)"
   ]
  }
 ],
 "metadata": {
  "kernelspec": {
   "display_name": "Python 3 (ipykernel)",
   "language": "python",
   "name": "python3"
  },
  "language_info": {
   "codemirror_mode": {
    "name": "ipython",
    "version": 3
   },
   "file_extension": ".py",
   "mimetype": "text/x-python",
   "name": "python",
   "nbconvert_exporter": "python",
   "pygments_lexer": "ipython3",
   "version": "3.8.11"
  }
 },
 "nbformat": 4,
 "nbformat_minor": 5
}
